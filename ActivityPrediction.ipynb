{
 "cells": [
  {
   "cell_type": "markdown",
   "id": "7dc056d3",
   "metadata": {
    "papermill": {
     "duration": 0.030372,
     "end_time": "2023-02-23T17:59:41.348463",
     "exception": false,
     "start_time": "2023-02-23T17:59:41.318091",
     "status": "completed"
    },
    "tags": []
   },
   "source": [
    "# Activity Prediction"
   ]
  },
  {
   "cell_type": "code",
   "execution_count": 1,
   "id": "e6850337",
   "metadata": {
    "execution": {
     "iopub.execute_input": "2023-02-23T17:59:41.805627Z",
     "iopub.status.busy": "2023-02-23T17:59:41.804907Z",
     "iopub.status.idle": "2023-02-23T17:59:44.626488Z",
     "shell.execute_reply": "2023-02-23T17:59:44.625239Z"
    },
    "papermill": {
     "duration": 2.857747,
     "end_time": "2023-02-23T17:59:44.629976",
     "exception": false,
     "start_time": "2023-02-23T17:59:41.772229",
     "status": "completed"
    },
    "tags": []
   },
   "outputs": [],
   "source": [
    "import numpy as np\n",
    "import pandas as pd\n",
    "import seaborn as sns\n",
    "import matplotlib.pyplot as plt\n",
    "from sklearn.preprocessing import LabelEncoder\n",
    "from sklearn.neighbors import KNeighborsClassifier\n",
    "from sklearn.ensemble import RandomForestClassifier\n",
    "from sklearn import tree\n",
    "from sklearn.tree import DecisionTreeClassifier\n",
    "from sklearn.preprocessing import RobustScaler\n",
    "from sklearn.model_selection import train_test_split, GridSearchCV\n",
    "from sklearn.metrics import classification_report, accuracy_score, recall_score, precision_score, f1_score\n",
    "\n",
    "import warnings\n",
    "warnings.filterwarnings(\"ignore\")\n"
   ]
  },
  {
   "cell_type": "markdown",
   "id": "dfe05f2d",
   "metadata": {
    "papermill": {
     "duration": 0.027781,
     "end_time": "2023-02-23T17:59:44.686880",
     "exception": false,
     "start_time": "2023-02-23T17:59:44.659099",
     "status": "completed"
    },
    "tags": []
   },
   "source": [
    "## Data Collection & Analysis"
   ]
  },
  {
   "cell_type": "code",
   "execution_count": 2,
   "id": "baa44713",
   "metadata": {
    "execution": {
     "iopub.execute_input": "2023-02-23T17:59:44.745477Z",
     "iopub.status.busy": "2023-02-23T17:59:44.745043Z",
     "iopub.status.idle": "2023-02-23T17:59:49.719274Z",
     "shell.execute_reply": "2023-02-23T17:59:49.718054Z"
    },
    "papermill": {
     "duration": 5.007113,
     "end_time": "2023-02-23T17:59:49.723422",
     "exception": false,
     "start_time": "2023-02-23T17:59:44.716309",
     "status": "completed"
    },
    "tags": []
   },
   "outputs": [
    {
     "data": {
      "text/html": [
       "<div>\n",
       "<style scoped>\n",
       "    .dataframe tbody tr th:only-of-type {\n",
       "        vertical-align: middle;\n",
       "    }\n",
       "\n",
       "    .dataframe tbody tr th {\n",
       "        vertical-align: top;\n",
       "    }\n",
       "\n",
       "    .dataframe thead th {\n",
       "        text-align: right;\n",
       "    }\n",
       "</style>\n",
       "<table border=\"1\" class=\"dataframe\">\n",
       "  <thead>\n",
       "    <tr style=\"text-align: right;\">\n",
       "      <th></th>\n",
       "      <th>alx</th>\n",
       "      <th>aly</th>\n",
       "      <th>alz</th>\n",
       "      <th>glx</th>\n",
       "      <th>gly</th>\n",
       "      <th>glz</th>\n",
       "      <th>arx</th>\n",
       "      <th>ary</th>\n",
       "      <th>arz</th>\n",
       "      <th>grx</th>\n",
       "      <th>gry</th>\n",
       "      <th>grz</th>\n",
       "      <th>Activity</th>\n",
       "      <th>subject</th>\n",
       "    </tr>\n",
       "  </thead>\n",
       "  <tbody>\n",
       "    <tr>\n",
       "      <th>0</th>\n",
       "      <td>2.1849</td>\n",
       "      <td>-9.6967</td>\n",
       "      <td>0.63077</td>\n",
       "      <td>0.103900</td>\n",
       "      <td>-0.84053</td>\n",
       "      <td>-0.68762</td>\n",
       "      <td>-8.6499</td>\n",
       "      <td>-4.5781</td>\n",
       "      <td>0.187760</td>\n",
       "      <td>-0.449020</td>\n",
       "      <td>-1.01030</td>\n",
       "      <td>0.034483</td>\n",
       "      <td>0</td>\n",
       "      <td>subject1</td>\n",
       "    </tr>\n",
       "    <tr>\n",
       "      <th>1</th>\n",
       "      <td>2.3876</td>\n",
       "      <td>-9.5080</td>\n",
       "      <td>0.68389</td>\n",
       "      <td>0.085343</td>\n",
       "      <td>-0.83865</td>\n",
       "      <td>-0.68369</td>\n",
       "      <td>-8.6275</td>\n",
       "      <td>-4.3198</td>\n",
       "      <td>0.023595</td>\n",
       "      <td>-0.449020</td>\n",
       "      <td>-1.01030</td>\n",
       "      <td>0.034483</td>\n",
       "      <td>0</td>\n",
       "      <td>subject1</td>\n",
       "    </tr>\n",
       "    <tr>\n",
       "      <th>2</th>\n",
       "      <td>2.4086</td>\n",
       "      <td>-9.5674</td>\n",
       "      <td>0.68113</td>\n",
       "      <td>0.085343</td>\n",
       "      <td>-0.83865</td>\n",
       "      <td>-0.68369</td>\n",
       "      <td>-8.5055</td>\n",
       "      <td>-4.2772</td>\n",
       "      <td>0.275720</td>\n",
       "      <td>-0.449020</td>\n",
       "      <td>-1.01030</td>\n",
       "      <td>0.034483</td>\n",
       "      <td>0</td>\n",
       "      <td>subject1</td>\n",
       "    </tr>\n",
       "    <tr>\n",
       "      <th>3</th>\n",
       "      <td>2.1814</td>\n",
       "      <td>-9.4301</td>\n",
       "      <td>0.55031</td>\n",
       "      <td>0.085343</td>\n",
       "      <td>-0.83865</td>\n",
       "      <td>-0.68369</td>\n",
       "      <td>-8.6279</td>\n",
       "      <td>-4.3163</td>\n",
       "      <td>0.367520</td>\n",
       "      <td>-0.456860</td>\n",
       "      <td>-1.00820</td>\n",
       "      <td>0.025862</td>\n",
       "      <td>0</td>\n",
       "      <td>subject1</td>\n",
       "    </tr>\n",
       "    <tr>\n",
       "      <th>4</th>\n",
       "      <td>2.4173</td>\n",
       "      <td>-9.3889</td>\n",
       "      <td>0.71098</td>\n",
       "      <td>0.085343</td>\n",
       "      <td>-0.83865</td>\n",
       "      <td>-0.68369</td>\n",
       "      <td>-8.7008</td>\n",
       "      <td>-4.1459</td>\n",
       "      <td>0.407290</td>\n",
       "      <td>-0.456860</td>\n",
       "      <td>-1.00820</td>\n",
       "      <td>0.025862</td>\n",
       "      <td>0</td>\n",
       "      <td>subject1</td>\n",
       "    </tr>\n",
       "    <tr>\n",
       "      <th>...</th>\n",
       "      <td>...</td>\n",
       "      <td>...</td>\n",
       "      <td>...</td>\n",
       "      <td>...</td>\n",
       "      <td>...</td>\n",
       "      <td>...</td>\n",
       "      <td>...</td>\n",
       "      <td>...</td>\n",
       "      <td>...</td>\n",
       "      <td>...</td>\n",
       "      <td>...</td>\n",
       "      <td>...</td>\n",
       "      <td>...</td>\n",
       "      <td>...</td>\n",
       "    </tr>\n",
       "    <tr>\n",
       "      <th>1215740</th>\n",
       "      <td>1.7849</td>\n",
       "      <td>-9.8287</td>\n",
       "      <td>0.29725</td>\n",
       "      <td>-0.341370</td>\n",
       "      <td>-0.90056</td>\n",
       "      <td>-0.61493</td>\n",
       "      <td>-3.7198</td>\n",
       "      <td>-8.9071</td>\n",
       "      <td>0.294230</td>\n",
       "      <td>0.041176</td>\n",
       "      <td>-0.99384</td>\n",
       "      <td>-0.480600</td>\n",
       "      <td>0</td>\n",
       "      <td>subject10</td>\n",
       "    </tr>\n",
       "    <tr>\n",
       "      <th>1215741</th>\n",
       "      <td>1.8687</td>\n",
       "      <td>-9.8766</td>\n",
       "      <td>0.46236</td>\n",
       "      <td>-0.341370</td>\n",
       "      <td>-0.90056</td>\n",
       "      <td>-0.61493</td>\n",
       "      <td>-3.7160</td>\n",
       "      <td>-8.7455</td>\n",
       "      <td>0.448140</td>\n",
       "      <td>0.041176</td>\n",
       "      <td>-0.99384</td>\n",
       "      <td>-0.480600</td>\n",
       "      <td>0</td>\n",
       "      <td>subject10</td>\n",
       "    </tr>\n",
       "    <tr>\n",
       "      <th>1215742</th>\n",
       "      <td>1.6928</td>\n",
       "      <td>-9.9290</td>\n",
       "      <td>0.16631</td>\n",
       "      <td>-0.341370</td>\n",
       "      <td>-0.90056</td>\n",
       "      <td>-0.61493</td>\n",
       "      <td>-3.8824</td>\n",
       "      <td>-9.1155</td>\n",
       "      <td>0.450480</td>\n",
       "      <td>0.041176</td>\n",
       "      <td>-0.99384</td>\n",
       "      <td>-0.480600</td>\n",
       "      <td>0</td>\n",
       "      <td>subject10</td>\n",
       "    </tr>\n",
       "    <tr>\n",
       "      <th>1215743</th>\n",
       "      <td>1.5279</td>\n",
       "      <td>-9.6306</td>\n",
       "      <td>0.30458</td>\n",
       "      <td>-0.341370</td>\n",
       "      <td>-0.90056</td>\n",
       "      <td>-0.61493</td>\n",
       "      <td>-3.5564</td>\n",
       "      <td>-9.1441</td>\n",
       "      <td>0.594880</td>\n",
       "      <td>0.041176</td>\n",
       "      <td>-0.99384</td>\n",
       "      <td>-0.480600</td>\n",
       "      <td>0</td>\n",
       "      <td>subject10</td>\n",
       "    </tr>\n",
       "    <tr>\n",
       "      <th>1215744</th>\n",
       "      <td>1.6614</td>\n",
       "      <td>-9.8398</td>\n",
       "      <td>0.18088</td>\n",
       "      <td>-0.332100</td>\n",
       "      <td>-0.90432</td>\n",
       "      <td>-0.61886</td>\n",
       "      <td>-3.9035</td>\n",
       "      <td>-8.9324</td>\n",
       "      <td>0.761710</td>\n",
       "      <td>0.035294</td>\n",
       "      <td>-1.02050</td>\n",
       "      <td>-0.471980</td>\n",
       "      <td>0</td>\n",
       "      <td>subject10</td>\n",
       "    </tr>\n",
       "  </tbody>\n",
       "</table>\n",
       "<p>1215745 rows × 14 columns</p>\n",
       "</div>"
      ],
      "text/plain": [
       "            alx     aly      alz       glx      gly      glz     arx     ary   \n",
       "0        2.1849 -9.6967  0.63077  0.103900 -0.84053 -0.68762 -8.6499 -4.5781  \\\n",
       "1        2.3876 -9.5080  0.68389  0.085343 -0.83865 -0.68369 -8.6275 -4.3198   \n",
       "2        2.4086 -9.5674  0.68113  0.085343 -0.83865 -0.68369 -8.5055 -4.2772   \n",
       "3        2.1814 -9.4301  0.55031  0.085343 -0.83865 -0.68369 -8.6279 -4.3163   \n",
       "4        2.4173 -9.3889  0.71098  0.085343 -0.83865 -0.68369 -8.7008 -4.1459   \n",
       "...         ...     ...      ...       ...      ...      ...     ...     ...   \n",
       "1215740  1.7849 -9.8287  0.29725 -0.341370 -0.90056 -0.61493 -3.7198 -8.9071   \n",
       "1215741  1.8687 -9.8766  0.46236 -0.341370 -0.90056 -0.61493 -3.7160 -8.7455   \n",
       "1215742  1.6928 -9.9290  0.16631 -0.341370 -0.90056 -0.61493 -3.8824 -9.1155   \n",
       "1215743  1.5279 -9.6306  0.30458 -0.341370 -0.90056 -0.61493 -3.5564 -9.1441   \n",
       "1215744  1.6614 -9.8398  0.18088 -0.332100 -0.90432 -0.61886 -3.9035 -8.9324   \n",
       "\n",
       "              arz       grx      gry       grz  Activity    subject  \n",
       "0        0.187760 -0.449020 -1.01030  0.034483         0   subject1  \n",
       "1        0.023595 -0.449020 -1.01030  0.034483         0   subject1  \n",
       "2        0.275720 -0.449020 -1.01030  0.034483         0   subject1  \n",
       "3        0.367520 -0.456860 -1.00820  0.025862         0   subject1  \n",
       "4        0.407290 -0.456860 -1.00820  0.025862         0   subject1  \n",
       "...           ...       ...      ...       ...       ...        ...  \n",
       "1215740  0.294230  0.041176 -0.99384 -0.480600         0  subject10  \n",
       "1215741  0.448140  0.041176 -0.99384 -0.480600         0  subject10  \n",
       "1215742  0.450480  0.041176 -0.99384 -0.480600         0  subject10  \n",
       "1215743  0.594880  0.041176 -0.99384 -0.480600         0  subject10  \n",
       "1215744  0.761710  0.035294 -1.02050 -0.471980         0  subject10  \n",
       "\n",
       "[1215745 rows x 14 columns]"
      ]
     },
     "execution_count": 2,
     "metadata": {},
     "output_type": "execute_result"
    }
   ],
   "source": [
    "\n",
    "df=pd.read_csv(\"dataset.csv\",sep=\",\",encoding=\"utf-8\")\n",
    "df"
   ]
  },
  {
   "cell_type": "code",
   "execution_count": 3,
   "id": "be39650d",
   "metadata": {
    "execution": {
     "iopub.execute_input": "2023-02-23T17:59:49.782429Z",
     "iopub.status.busy": "2023-02-23T17:59:49.782025Z",
     "iopub.status.idle": "2023-02-23T17:59:49.790069Z",
     "shell.execute_reply": "2023-02-23T17:59:49.788472Z"
    },
    "papermill": {
     "duration": 0.040364,
     "end_time": "2023-02-23T17:59:49.792843",
     "exception": false,
     "start_time": "2023-02-23T17:59:49.752479",
     "status": "completed"
    },
    "tags": []
   },
   "outputs": [
    {
     "data": {
      "text/plain": [
       "(1215745, 14)"
      ]
     },
     "execution_count": 3,
     "metadata": {},
     "output_type": "execute_result"
    }
   ],
   "source": [
    "\n",
    "df.shape"
   ]
  },
  {
   "cell_type": "code",
   "execution_count": 4,
   "id": "ea9d1f62",
   "metadata": {
    "execution": {
     "iopub.execute_input": "2023-02-23T17:59:49.854442Z",
     "iopub.status.busy": "2023-02-23T17:59:49.853793Z",
     "iopub.status.idle": "2023-02-23T17:59:49.975811Z",
     "shell.execute_reply": "2023-02-23T17:59:49.973646Z"
    },
    "papermill": {
     "duration": 0.156595,
     "end_time": "2023-02-23T17:59:49.978617",
     "exception": false,
     "start_time": "2023-02-23T17:59:49.822022",
     "status": "completed"
    },
    "tags": []
   },
   "outputs": [
    {
     "name": "stdout",
     "output_type": "stream",
     "text": [
      "<class 'pandas.core.frame.DataFrame'>\n",
      "RangeIndex: 1215745 entries, 0 to 1215744\n",
      "Data columns (total 14 columns):\n",
      " #   Column    Non-Null Count    Dtype  \n",
      "---  ------    --------------    -----  \n",
      " 0   alx       1215745 non-null  float64\n",
      " 1   aly       1215745 non-null  float64\n",
      " 2   alz       1215745 non-null  float64\n",
      " 3   glx       1215745 non-null  float64\n",
      " 4   gly       1215745 non-null  float64\n",
      " 5   glz       1215745 non-null  float64\n",
      " 6   arx       1215745 non-null  float64\n",
      " 7   ary       1215745 non-null  float64\n",
      " 8   arz       1215745 non-null  float64\n",
      " 9   grx       1215745 non-null  float64\n",
      " 10  gry       1215745 non-null  float64\n",
      " 11  grz       1215745 non-null  float64\n",
      " 12  Activity  1215745 non-null  int64  \n",
      " 13  subject   1215745 non-null  object \n",
      "dtypes: float64(12), int64(1), object(1)\n",
      "memory usage: 129.9+ MB\n"
     ]
    }
   ],
   "source": [
    "\n",
    "df.info()"
   ]
  },
  {
   "cell_type": "markdown",
   "id": "8d62d390",
   "metadata": {},
   "source": [
    "## Data Preprocessing"
   ]
  },
  {
   "cell_type": "code",
   "execution_count": 5,
   "id": "e9d3d10a",
   "metadata": {
    "execution": {
     "iopub.execute_input": "2023-02-23T17:59:50.925436Z",
     "iopub.status.busy": "2023-02-23T17:59:50.924961Z",
     "iopub.status.idle": "2023-02-23T17:59:50.997357Z",
     "shell.execute_reply": "2023-02-23T17:59:50.996155Z"
    },
    "papermill": {
     "duration": 0.105176,
     "end_time": "2023-02-23T17:59:50.999796",
     "exception": false,
     "start_time": "2023-02-23T17:59:50.894620",
     "status": "completed"
    },
    "tags": []
   },
   "outputs": [
    {
     "data": {
      "text/plain": [
       "alx         False\n",
       "aly         False\n",
       "alz         False\n",
       "glx         False\n",
       "gly         False\n",
       "glz         False\n",
       "arx         False\n",
       "ary         False\n",
       "arz         False\n",
       "grx         False\n",
       "gry         False\n",
       "grz         False\n",
       "Activity    False\n",
       "subject     False\n",
       "dtype: bool"
      ]
     },
     "execution_count": 5,
     "metadata": {},
     "output_type": "execute_result"
    }
   ],
   "source": [
    "df.isnull().any()"
   ]
  },
  {
   "cell_type": "markdown",
   "id": "741a5d34",
   "metadata": {
    "papermill": {
     "duration": 0.03255,
     "end_time": "2023-02-23T17:59:51.060805",
     "exception": false,
     "start_time": "2023-02-23T17:59:51.028255",
     "status": "completed"
    },
    "tags": []
   },
   "source": [
    "there is no missing data found in the sheet"
   ]
  },
  {
   "cell_type": "code",
   "execution_count": 6,
   "id": "ec994950",
   "metadata": {
    "execution": {
     "iopub.execute_input": "2023-02-23T17:59:51.137316Z",
     "iopub.status.busy": "2023-02-23T17:59:51.136926Z",
     "iopub.status.idle": "2023-02-23T17:59:52.614081Z",
     "shell.execute_reply": "2023-02-23T17:59:52.612833Z"
    },
    "papermill": {
     "duration": 1.513632,
     "end_time": "2023-02-23T17:59:52.617673",
     "exception": false,
     "start_time": "2023-02-23T17:59:51.104041",
     "status": "completed"
    },
    "tags": []
   },
   "outputs": [
    {
     "data": {
      "text/plain": [
       "0"
      ]
     },
     "execution_count": 6,
     "metadata": {},
     "output_type": "execute_result"
    }
   ],
   "source": [
    "df.duplicated().sum()"
   ]
  },
  {
   "cell_type": "code",
   "execution_count": 7,
   "id": "94a00ba6",
   "metadata": {},
   "outputs": [],
   "source": [
    "df = df.drop([\"subject\"], axis=1)"
   ]
  },
  {
   "cell_type": "markdown",
   "id": "74bf0e56",
   "metadata": {
    "papermill": {
     "duration": 0.032636,
     "end_time": "2023-02-23T17:59:52.835782",
     "exception": false,
     "start_time": "2023-02-23T17:59:52.803146",
     "status": "completed"
    },
    "tags": []
   },
   "source": [
    "#### Checking imbalanced data and resampling"
   ]
  },
  {
   "cell_type": "code",
   "execution_count": 8,
   "id": "a3ac3a35",
   "metadata": {
    "execution": {
     "iopub.execute_input": "2023-02-23T17:59:52.902178Z",
     "iopub.status.busy": "2023-02-23T17:59:52.901537Z",
     "iopub.status.idle": "2023-02-23T17:59:53.282260Z",
     "shell.execute_reply": "2023-02-23T17:59:53.280830Z"
    },
    "papermill": {
     "duration": 0.417909,
     "end_time": "2023-02-23T17:59:53.284993",
     "exception": false,
     "start_time": "2023-02-23T17:59:52.867084",
     "status": "completed"
    },
    "tags": []
   },
   "outputs": [
    {
     "data": {
      "text/plain": [
       "<Axes: title={'center': 'Data Before sampling'}, xlabel='Activity'>"
      ]
     },
     "execution_count": 8,
     "metadata": {},
     "output_type": "execute_result"
    },
    {
     "data": {
      "image/png": "[encoded data removed]",
      "text/plain": [
       "<Figure size 1000x800 with 1 Axes>"
      ]
     },
     "metadata": {},
     "output_type": "display_data"
    }
   ],
   "source": [
    "#Before resampling\n",
    "plt.figure(figsize=(10 ,8 ))\n",
    "plt.title('Data Before sampling')\n",
    "df['Activity'].value_counts().plot.bar(rot=0)"
   ]
  },
  {
   "cell_type": "code",
   "execution_count": 9,
   "id": "5e59055c",
   "metadata": {
    "execution": {
     "iopub.execute_input": "2023-02-23T17:59:53.349510Z",
     "iopub.status.busy": "2023-02-23T17:59:53.349104Z",
     "iopub.status.idle": "2023-02-23T17:59:53.564841Z",
     "shell.execute_reply": "2023-02-23T17:59:53.563399Z"
    },
    "papermill": {
     "duration": 0.252674,
     "end_time": "2023-02-23T17:59:53.568197",
     "exception": false,
     "start_time": "2023-02-23T17:59:53.315523",
     "status": "completed"
    },
    "tags": []
   },
   "outputs": [],
   "source": [
    "# Resampling activity 0 to 40000 observations\n",
    "data_activity_0 = df[df['Activity'] == 0]\n",
    "data_activity_else = df[df['Activity'] != 0]\n",
    "\n",
    "data_activity_0 = data_activity_0.sample(n=40000, random_state=42)\n",
    "df = pd.concat([data_activity_0, data_activity_else])"
   ]
  },
  {
   "cell_type": "code",
   "execution_count": 10,
   "id": "ca5db03e",
   "metadata": {
    "execution": {
     "iopub.execute_input": "2023-02-23T17:59:53.629322Z",
     "iopub.status.busy": "2023-02-23T17:59:53.628936Z",
     "iopub.status.idle": "2023-02-23T17:59:53.933727Z",
     "shell.execute_reply": "2023-02-23T17:59:53.932367Z"
    },
    "papermill": {
     "duration": 0.337746,
     "end_time": "2023-02-23T17:59:53.936371",
     "exception": false,
     "start_time": "2023-02-23T17:59:53.598625",
     "status": "completed"
    },
    "tags": []
   },
   "outputs": [
    {
     "data": {
      "text/plain": [
       "<Axes: title={'center': 'Data afetr sampling'}, xlabel='Activity'>"
      ]
     },
     "execution_count": 10,
     "metadata": {},
     "output_type": "execute_result"
    },
    {
     "data": {
      "image/png": "[encoded data removed]",
      "text/plain": [
       "<Figure size 1000x800 with 1 Axes>"
      ]
     },
     "metadata": {},
     "output_type": "display_data"
    }
   ],
   "source": [
    "plt.figure(figsize=(10 ,8 ))\n",
    "plt.title('Data afetr sampling')\n",
    "df['Activity'].value_counts().plot.bar(rot=0)"
   ]
  },
  {
   "cell_type": "markdown",
   "id": "861dd2d2",
   "metadata": {
    "papermill": {
     "duration": 0.028511,
     "end_time": "2023-02-23T17:59:53.994436",
     "exception": false,
     "start_time": "2023-02-23T17:59:53.965925",
     "status": "completed"
    },
    "tags": []
   },
   "source": [
    "## EDA & Visualization"
   ]
  },
  {
   "cell_type": "code",
   "execution_count": 11,
   "id": "9667d233",
   "metadata": {
    "execution": {
     "iopub.execute_input": "2023-02-23T17:59:54.055503Z",
     "iopub.status.busy": "2023-02-23T17:59:54.055112Z",
     "iopub.status.idle": "2023-02-23T17:59:54.061467Z",
     "shell.execute_reply": "2023-02-23T17:59:54.060244Z"
    },
    "papermill": {
     "duration": 0.040826,
     "end_time": "2023-02-23T17:59:54.064194",
     "exception": false,
     "start_time": "2023-02-23T17:59:54.023368",
     "status": "completed"
    },
    "tags": []
   },
   "outputs": [],
   "source": [
    "# giving labels to our values\n",
    "activities_label = {\n",
    "    0: \"None\",\n",
    "    1: \"Standing still (1 min)\",\n",
    "    2: \"Sitting and relaxing (1 min)\",\n",
    "    3: \"Lying down (1 min)\",\n",
    "    4: \"Walking (1 min)\",\n",
    "    5: \"Climbing stairs (1 min)\",\n",
    "    6: \"Waist bends forward (20x)\",\n",
    "    7: \"Frontal elevation of arms (20x)\",\n",
    "    8: \"Knees bending (crouching) (20x)\",\n",
    "    9: \"Cycling (1 min)\",\n",
    "    10: \"Jogging (1 min)\",\n",
    "    11: \"Running (1 min)\",\n",
    "    12: \"Jump front & back (20x)\"\n",
    "}"
   ]
  },
  {
   "cell_type": "markdown",
   "id": "6010617b",
   "metadata": {
    "papermill": {
     "duration": 0.258795,
     "end_time": "2023-02-23T18:04:38.531838",
     "exception": false,
     "start_time": "2023-02-23T18:04:38.273043",
     "status": "completed"
    },
    "tags": []
   },
   "source": [
    "## Decoding"
   ]
  },
  {
   "cell_type": "code",
   "execution_count": 12,
   "id": "24c60df7",
   "metadata": {
    "execution": {
     "iopub.execute_input": "2023-02-23T18:04:39.082129Z",
     "iopub.status.busy": "2023-02-23T18:04:39.079890Z",
     "iopub.status.idle": "2023-02-23T18:04:39.089449Z",
     "shell.execute_reply": "2023-02-23T18:04:39.088277Z"
    },
    "papermill": {
     "duration": 0.297054,
     "end_time": "2023-02-23T18:04:39.092409",
     "exception": false,
     "start_time": "2023-02-23T18:04:38.795355",
     "status": "completed"
    },
    "tags": []
   },
   "outputs": [],
   "source": [
    "#### the discrete column (Activity)from the dataset needs to be repaired :"
   ]
  },
  {
   "cell_type": "code",
   "execution_count": 13,
   "id": "2e732eb9",
   "metadata": {
    "execution": {
     "iopub.execute_input": "2023-02-23T18:04:39.670724Z",
     "iopub.status.busy": "2023-02-23T18:04:39.669382Z",
     "iopub.status.idle": "2023-02-23T18:04:39.719885Z",
     "shell.execute_reply": "2023-02-23T18:04:39.718361Z"
    },
    "papermill": {
     "duration": 0.343709,
     "end_time": "2023-02-23T18:04:39.724308",
     "exception": false,
     "start_time": "2023-02-23T18:04:39.380599",
     "status": "completed"
    },
    "tags": []
   },
   "outputs": [
    {
     "data": {
      "text/plain": [
       "1212350                       None\n",
       "134482                        None\n",
       "820343                        None\n",
       "718210                        None\n",
       "118798                        None\n",
       "                    ...           \n",
       "1213641    Jump front & back (20x)\n",
       "1213642    Jump front & back (20x)\n",
       "1213643    Jump front & back (20x)\n",
       "1213644    Jump front & back (20x)\n",
       "1213645    Jump front & back (20x)\n",
       "Name: Activity, Length: 383195, dtype: object"
      ]
     },
     "execution_count": 13,
     "metadata": {},
     "output_type": "execute_result"
    }
   ],
   "source": [
    "df['Activity'] = df['Activity'].replace([0,1,2,3,4,5,6,7,8,9,10,11,12],['None','Standing still (1 min)', 'Sitting and relaxing (1 min)', 'Lying down (1 min)', 'Walking (1 min)','Climbing stairs (1 min)','Waist bends forward (20x)','Frontal elevation of arms (20x)','Knees bending (crouching) (20x)','Cycling (1 min)','Jogging (1 min)','Running (1 min)','Jump front & back (20x)'])\n",
    "df['Activity']"
   ]
  },
  {
   "cell_type": "code",
   "execution_count": 14,
   "id": "199b130d",
   "metadata": {
    "execution": {
     "iopub.execute_input": "2023-02-23T18:04:40.403458Z",
     "iopub.status.busy": "2023-02-23T18:04:40.402814Z",
     "iopub.status.idle": "2023-02-23T18:04:40.436901Z",
     "shell.execute_reply": "2023-02-23T18:04:40.435619Z"
    },
    "papermill": {
     "duration": 0.322136,
     "end_time": "2023-02-23T18:04:40.439620",
     "exception": false,
     "start_time": "2023-02-23T18:04:40.117484",
     "status": "completed"
    },
    "tags": []
   },
   "outputs": [
    {
     "data": {
      "text/plain": [
       "Activity\n",
       "None                               40000\n",
       "Standing still (1 min)             30720\n",
       "Sitting and relaxing (1 min)       30720\n",
       "Lying down (1 min)                 30720\n",
       "Walking (1 min)                    30720\n",
       "Cycling (1 min)                    30720\n",
       "Jogging (1 min)                    30720\n",
       "Running (1 min)                    30720\n",
       "Climbing stairs (1 min)            30720\n",
       "Frontal elevation of arms (20x)    29441\n",
       "Knees bending (crouching) (20x)    29337\n",
       "Waist bends forward (20x)          28315\n",
       "Jump front & back (20x)            10342\n",
       "Name: count, dtype: int64"
      ]
     },
     "execution_count": 14,
     "metadata": {},
     "output_type": "execute_result"
    }
   ],
   "source": [
    "df.Activity.value_counts()"
   ]
  },
  {
   "cell_type": "code",
   "execution_count": 15,
   "id": "e01de3fe",
   "metadata": {
    "execution": {
     "iopub.execute_input": "2023-02-23T18:04:41.014341Z",
     "iopub.status.busy": "2023-02-23T18:04:41.013907Z",
     "iopub.status.idle": "2023-02-23T18:04:41.380957Z",
     "shell.execute_reply": "2023-02-23T18:04:41.379040Z"
    },
    "papermill": {
     "duration": 0.66258,
     "end_time": "2023-02-23T18:04:41.385117",
     "exception": false,
     "start_time": "2023-02-23T18:04:40.722537",
     "status": "completed"
    },
    "tags": []
   },
   "outputs": [
    {
     "data": {
      "text/plain": [
       "<Axes: ylabel='count'>"
      ]
     },
     "execution_count": 15,
     "metadata": {},
     "output_type": "execute_result"
    },
    {
     "data": {
      "image/png": "[encoded data removed]",
      "text/plain": [
       "<Figure size 1200x800 with 1 Axes>"
      ]
     },
     "metadata": {},
     "output_type": "display_data"
    }
   ],
   "source": [
    "plt.figure(figsize=(12,8))\n",
    "round(df[\"Activity\"].value_counts()/df.shape[0]*100,2).plot.pie(autopct= '%2.1f%%')"
   ]
  },
  {
   "cell_type": "code",
   "execution_count": 16,
   "id": "7944c225",
   "metadata": {
    "execution": {
     "iopub.execute_input": "2023-02-23T18:04:49.819269Z",
     "iopub.status.busy": "2023-02-23T18:04:49.818098Z",
     "iopub.status.idle": "2023-02-23T18:04:51.008564Z",
     "shell.execute_reply": "2023-02-23T18:04:51.006176Z"
    },
    "papermill": {
     "duration": 1.476723,
     "end_time": "2023-02-23T18:04:51.011812",
     "exception": false,
     "start_time": "2023-02-23T18:04:49.535089",
     "status": "completed"
    },
    "tags": []
   },
   "outputs": [],
   "source": [
    "\n",
    "df1 = df.copy()"
   ]
  },
  {
   "cell_type": "code",
   "execution_count": 17,
   "id": "b38d2aec",
   "metadata": {
    "execution": {
     "iopub.execute_input": "2023-02-23T18:04:51.600177Z",
     "iopub.status.busy": "2023-02-23T18:04:51.598672Z",
     "iopub.status.idle": "2023-02-23T18:04:51.608797Z",
     "shell.execute_reply": "2023-02-23T18:04:51.607040Z"
    },
    "papermill": {
     "duration": 0.314895,
     "end_time": "2023-02-23T18:04:51.612772",
     "exception": false,
     "start_time": "2023-02-23T18:04:51.297877",
     "status": "completed"
    },
    "tags": []
   },
   "outputs": [
    {
     "data": {
      "text/plain": [
       "(383195, 13)"
      ]
     },
     "execution_count": 17,
     "metadata": {},
     "output_type": "execute_result"
    }
   ],
   "source": [
    "df1.shape"
   ]
  },
  {
   "cell_type": "code",
   "execution_count": 18,
   "id": "c681b6b6",
   "metadata": {
    "execution": {
     "iopub.execute_input": "2023-02-23T18:04:52.804265Z",
     "iopub.status.busy": "2023-02-23T18:04:52.803082Z",
     "iopub.status.idle": "2023-02-23T18:04:52.842558Z",
     "shell.execute_reply": "2023-02-23T18:04:52.838909Z"
    },
    "papermill": {
     "duration": 0.332326,
     "end_time": "2023-02-23T18:04:52.847453",
     "exception": false,
     "start_time": "2023-02-23T18:04:52.515127",
     "status": "completed"
    },
    "tags": []
   },
   "outputs": [
    {
     "data": {
      "text/plain": [
       "Activity\n",
       "None                               40000\n",
       "Standing still (1 min)             30720\n",
       "Sitting and relaxing (1 min)       30720\n",
       "Lying down (1 min)                 30720\n",
       "Walking (1 min)                    30720\n",
       "Cycling (1 min)                    30720\n",
       "Jogging (1 min)                    30720\n",
       "Running (1 min)                    30720\n",
       "Climbing stairs (1 min)            30720\n",
       "Frontal elevation of arms (20x)    29441\n",
       "Knees bending (crouching) (20x)    29337\n",
       "Waist bends forward (20x)          28315\n",
       "Jump front & back (20x)            10342\n",
       "Name: count, dtype: int64"
      ]
     },
     "execution_count": 18,
     "metadata": {},
     "output_type": "execute_result"
    }
   ],
   "source": [
    "df.Activity.value_counts()"
   ]
  },
  {
   "cell_type": "code",
   "execution_count": 19,
   "id": "522f893e",
   "metadata": {
    "execution": {
     "iopub.execute_input": "2023-02-23T18:04:53.451614Z",
     "iopub.status.busy": "2023-02-23T18:04:53.450225Z",
     "iopub.status.idle": "2023-02-23T18:04:53.491724Z",
     "shell.execute_reply": "2023-02-23T18:04:53.489452Z"
    },
    "papermill": {
     "duration": 0.349339,
     "end_time": "2023-02-23T18:04:53.495173",
     "exception": false,
     "start_time": "2023-02-23T18:04:53.145834",
     "status": "completed"
    },
    "tags": []
   },
   "outputs": [
    {
     "data": {
      "text/plain": [
       "Activity\n",
       "None                               40000\n",
       "Standing still (1 min)             30720\n",
       "Sitting and relaxing (1 min)       30720\n",
       "Lying down (1 min)                 30720\n",
       "Walking (1 min)                    30720\n",
       "Cycling (1 min)                    30720\n",
       "Jogging (1 min)                    30720\n",
       "Running (1 min)                    30720\n",
       "Climbing stairs (1 min)            30720\n",
       "Frontal elevation of arms (20x)    29441\n",
       "Knees bending (crouching) (20x)    29337\n",
       "Waist bends forward (20x)          28315\n",
       "Jump front & back (20x)            10342\n",
       "Name: count, dtype: int64"
      ]
     },
     "execution_count": 19,
     "metadata": {},
     "output_type": "execute_result"
    }
   ],
   "source": [
    "df1.Activity.value_counts()"
   ]
  },
  {
   "cell_type": "markdown",
   "id": "3d9b2161",
   "metadata": {
    "papermill": {
     "duration": 0.296384,
     "end_time": "2023-02-23T18:04:56.065489",
     "exception": false,
     "start_time": "2023-02-23T18:04:55.769105",
     "status": "completed"
    },
    "tags": []
   },
   "source": [
    "## Encoding"
   ]
  },
  {
   "cell_type": "code",
   "execution_count": 20,
   "id": "b8a892d3",
   "metadata": {
    "execution": {
     "iopub.execute_input": "2023-02-23T18:04:58.080767Z",
     "iopub.status.busy": "2023-02-23T18:04:58.080069Z",
     "iopub.status.idle": "2023-02-23T18:04:58.188344Z",
     "shell.execute_reply": "2023-02-23T18:04:58.186452Z"
    },
    "papermill": {
     "duration": 0.400418,
     "end_time": "2023-02-23T18:04:58.191281",
     "exception": false,
     "start_time": "2023-02-23T18:04:57.790863",
     "status": "completed"
    },
    "tags": []
   },
   "outputs": [],
   "source": [
    "\n",
    "le = LabelEncoder()\n",
    "\n",
    "df['Activity'] = le.fit_transform(df['Activity'])\n"
   ]
  },
  {
   "cell_type": "code",
   "execution_count": 21,
   "id": "9257ecab",
   "metadata": {
    "execution": {
     "iopub.execute_input": "2023-02-23T18:04:58.828026Z",
     "iopub.status.busy": "2023-02-23T18:04:58.827554Z",
     "iopub.status.idle": "2023-02-23T18:04:58.840069Z",
     "shell.execute_reply": "2023-02-23T18:04:58.838811Z"
    },
    "papermill": {
     "duration": 0.349786,
     "end_time": "2023-02-23T18:04:58.842743",
     "exception": false,
     "start_time": "2023-02-23T18:04:58.492957",
     "status": "completed"
    },
    "tags": []
   },
   "outputs": [
    {
     "data": {
      "text/plain": [
       "alx         float64\n",
       "aly         float64\n",
       "alz         float64\n",
       "glx         float64\n",
       "gly         float64\n",
       "glz         float64\n",
       "arx         float64\n",
       "ary         float64\n",
       "arz         float64\n",
       "grx         float64\n",
       "gry         float64\n",
       "grz         float64\n",
       "Activity      int32\n",
       "dtype: object"
      ]
     },
     "execution_count": 21,
     "metadata": {},
     "output_type": "execute_result"
    }
   ],
   "source": [
    "df.dtypes"
   ]
  },
  {
   "cell_type": "code",
   "execution_count": 22,
   "id": "e7877b04",
   "metadata": {},
   "outputs": [
    {
     "data": {
      "text/html": [
       "<div>\n",
       "<style scoped>\n",
       "    .dataframe tbody tr th:only-of-type {\n",
       "        vertical-align: middle;\n",
       "    }\n",
       "\n",
       "    .dataframe tbody tr th {\n",
       "        vertical-align: top;\n",
       "    }\n",
       "\n",
       "    .dataframe thead th {\n",
       "        text-align: right;\n",
       "    }\n",
       "</style>\n",
       "<table border=\"1\" class=\"dataframe\">\n",
       "  <thead>\n",
       "    <tr style=\"text-align: right;\">\n",
       "      <th></th>\n",
       "      <th>alx</th>\n",
       "      <th>aly</th>\n",
       "      <th>alz</th>\n",
       "      <th>glx</th>\n",
       "      <th>gly</th>\n",
       "      <th>glz</th>\n",
       "      <th>arx</th>\n",
       "      <th>ary</th>\n",
       "      <th>arz</th>\n",
       "      <th>grx</th>\n",
       "      <th>gry</th>\n",
       "      <th>grz</th>\n",
       "      <th>Activity</th>\n",
       "    </tr>\n",
       "  </thead>\n",
       "  <tbody>\n",
       "    <tr>\n",
       "      <th>1212350</th>\n",
       "      <td>1.33590</td>\n",
       "      <td>-9.7394</td>\n",
       "      <td>-1.66110</td>\n",
       "      <td>0.58813</td>\n",
       "      <td>-0.58724</td>\n",
       "      <td>-0.662080</td>\n",
       "      <td>-3.2703</td>\n",
       "      <td>-9.05310</td>\n",
       "      <td>-0.30682</td>\n",
       "      <td>0.401960</td>\n",
       "      <td>-1.06160</td>\n",
       "      <td>0.14655</td>\n",
       "      <td>7</td>\n",
       "    </tr>\n",
       "    <tr>\n",
       "      <th>134482</th>\n",
       "      <td>2.52730</td>\n",
       "      <td>-12.7320</td>\n",
       "      <td>-3.88220</td>\n",
       "      <td>0.51763</td>\n",
       "      <td>-0.58537</td>\n",
       "      <td>-0.758350</td>\n",
       "      <td>-4.3463</td>\n",
       "      <td>-10.51300</td>\n",
       "      <td>1.71390</td>\n",
       "      <td>-0.272550</td>\n",
       "      <td>-0.76591</td>\n",
       "      <td>0.85129</td>\n",
       "      <td>7</td>\n",
       "    </tr>\n",
       "    <tr>\n",
       "      <th>820343</th>\n",
       "      <td>0.55205</td>\n",
       "      <td>-9.7466</td>\n",
       "      <td>1.58070</td>\n",
       "      <td>0.55288</td>\n",
       "      <td>-0.76173</td>\n",
       "      <td>-0.176820</td>\n",
       "      <td>-5.8155</td>\n",
       "      <td>-8.16430</td>\n",
       "      <td>-2.42900</td>\n",
       "      <td>0.137250</td>\n",
       "      <td>-0.99795</td>\n",
       "      <td>0.52155</td>\n",
       "      <td>7</td>\n",
       "    </tr>\n",
       "    <tr>\n",
       "      <th>718210</th>\n",
       "      <td>2.49960</td>\n",
       "      <td>-9.3680</td>\n",
       "      <td>1.81700</td>\n",
       "      <td>0.73655</td>\n",
       "      <td>-0.55159</td>\n",
       "      <td>0.068762</td>\n",
       "      <td>-3.0504</td>\n",
       "      <td>-5.91350</td>\n",
       "      <td>4.65220</td>\n",
       "      <td>0.084314</td>\n",
       "      <td>-0.71047</td>\n",
       "      <td>0.90086</td>\n",
       "      <td>7</td>\n",
       "    </tr>\n",
       "    <tr>\n",
       "      <th>118798</th>\n",
       "      <td>-3.48370</td>\n",
       "      <td>-9.2520</td>\n",
       "      <td>0.54423</td>\n",
       "      <td>-0.37662</td>\n",
       "      <td>-0.61163</td>\n",
       "      <td>0.609040</td>\n",
       "      <td>-6.5952</td>\n",
       "      <td>-0.79894</td>\n",
       "      <td>7.10590</td>\n",
       "      <td>-0.900000</td>\n",
       "      <td>1.14580</td>\n",
       "      <td>0.81897</td>\n",
       "      <td>7</td>\n",
       "    </tr>\n",
       "  </tbody>\n",
       "</table>\n",
       "</div>"
      ],
      "text/plain": [
       "             alx      aly      alz      glx      gly       glz     arx   \n",
       "1212350  1.33590  -9.7394 -1.66110  0.58813 -0.58724 -0.662080 -3.2703  \\\n",
       "134482   2.52730 -12.7320 -3.88220  0.51763 -0.58537 -0.758350 -4.3463   \n",
       "820343   0.55205  -9.7466  1.58070  0.55288 -0.76173 -0.176820 -5.8155   \n",
       "718210   2.49960  -9.3680  1.81700  0.73655 -0.55159  0.068762 -3.0504   \n",
       "118798  -3.48370  -9.2520  0.54423 -0.37662 -0.61163  0.609040 -6.5952   \n",
       "\n",
       "              ary      arz       grx      gry      grz  Activity  \n",
       "1212350  -9.05310 -0.30682  0.401960 -1.06160  0.14655         7  \n",
       "134482  -10.51300  1.71390 -0.272550 -0.76591  0.85129         7  \n",
       "820343   -8.16430 -2.42900  0.137250 -0.99795  0.52155         7  \n",
       "718210   -5.91350  4.65220  0.084314 -0.71047  0.90086         7  \n",
       "118798   -0.79894  7.10590 -0.900000  1.14580  0.81897         7  "
      ]
     },
     "execution_count": 22,
     "metadata": {},
     "output_type": "execute_result"
    }
   ],
   "source": [
    "df.head()"
   ]
  },
  {
   "cell_type": "markdown",
   "id": "a209df5c",
   "metadata": {
    "papermill": {
     "duration": 0.380683,
     "end_time": "2023-02-23T18:05:05.510583",
     "exception": false,
     "start_time": "2023-02-23T18:05:05.129900",
     "status": "completed"
    },
    "tags": []
   },
   "source": [
    "### Train Test Split"
   ]
  },
  {
   "cell_type": "code",
   "execution_count": 23,
   "id": "9ee68b1c",
   "metadata": {
    "execution": {
     "iopub.execute_input": "2023-02-23T18:05:06.217661Z",
     "iopub.status.busy": "2023-02-23T18:05:06.215226Z",
     "iopub.status.idle": "2023-02-23T18:05:06.246355Z",
     "shell.execute_reply": "2023-02-23T18:05:06.245322Z"
    },
    "papermill": {
     "duration": 0.369006,
     "end_time": "2023-02-23T18:05:06.249339",
     "exception": false,
     "start_time": "2023-02-23T18:05:05.880333",
     "status": "completed"
    },
    "tags": []
   },
   "outputs": [],
   "source": [
    "x = df.drop(['Activity'], axis=1).values\n",
    "y = df['Activity'].values"
   ]
  },
  {
   "cell_type": "code",
   "execution_count": 24,
   "id": "4b5fb3a8",
   "metadata": {
    "execution": {
     "iopub.execute_input": "2023-02-23T18:05:07.078298Z",
     "iopub.status.busy": "2023-02-23T18:05:07.076685Z",
     "iopub.status.idle": "2023-02-23T18:05:07.223289Z",
     "shell.execute_reply": "2023-02-23T18:05:07.219651Z"
    },
    "papermill": {
     "duration": 0.627919,
     "end_time": "2023-02-23T18:05:07.228004",
     "exception": false,
     "start_time": "2023-02-23T18:05:06.600085",
     "status": "completed"
    },
    "tags": []
   },
   "outputs": [],
   "source": [
    "x_train, x_test, y_train, y_test = train_test_split(x, y, test_size=0.2)"
   ]
  },
  {
   "cell_type": "code",
   "execution_count": 25,
   "id": "e70588bb",
   "metadata": {
    "execution": {
     "iopub.execute_input": "2023-02-23T18:05:07.878482Z",
     "iopub.status.busy": "2023-02-23T18:05:07.875809Z",
     "iopub.status.idle": "2023-02-23T18:05:07.887103Z",
     "shell.execute_reply": "2023-02-23T18:05:07.885399Z"
    },
    "papermill": {
     "duration": 0.362493,
     "end_time": "2023-02-23T18:05:07.891482",
     "exception": false,
     "start_time": "2023-02-23T18:05:07.528989",
     "status": "completed"
    },
    "tags": []
   },
   "outputs": [
    {
     "data": {
      "text/plain": [
       "(306556, 12)"
      ]
     },
     "execution_count": 25,
     "metadata": {},
     "output_type": "execute_result"
    }
   ],
   "source": [
    "x_train.shape"
   ]
  },
  {
   "cell_type": "code",
   "execution_count": 26,
   "id": "893f6580",
   "metadata": {
    "execution": {
     "iopub.execute_input": "2023-02-23T18:05:08.526929Z",
     "iopub.status.busy": "2023-02-23T18:05:08.524423Z",
     "iopub.status.idle": "2023-02-23T18:05:08.538880Z",
     "shell.execute_reply": "2023-02-23T18:05:08.536662Z"
    },
    "papermill": {
     "duration": 0.333925,
     "end_time": "2023-02-23T18:05:08.542151",
     "exception": false,
     "start_time": "2023-02-23T18:05:08.208226",
     "status": "completed"
    },
    "tags": []
   },
   "outputs": [
    {
     "data": {
      "text/plain": [
       "(76639, 12)"
      ]
     },
     "execution_count": 26,
     "metadata": {},
     "output_type": "execute_result"
    }
   ],
   "source": [
    "x_test.shape"
   ]
  },
  {
   "cell_type": "code",
   "execution_count": 27,
   "id": "0133d1a1",
   "metadata": {
    "execution": {
     "iopub.execute_input": "2023-02-23T18:05:09.197636Z",
     "iopub.status.busy": "2023-02-23T18:05:09.197077Z",
     "iopub.status.idle": "2023-02-23T18:05:09.204705Z",
     "shell.execute_reply": "2023-02-23T18:05:09.203468Z"
    },
    "papermill": {
     "duration": 0.350693,
     "end_time": "2023-02-23T18:05:09.207401",
     "exception": false,
     "start_time": "2023-02-23T18:05:08.856708",
     "status": "completed"
    },
    "tags": []
   },
   "outputs": [
    {
     "data": {
      "text/plain": [
       "(306556,)"
      ]
     },
     "execution_count": 27,
     "metadata": {},
     "output_type": "execute_result"
    }
   ],
   "source": [
    "y_train.shape"
   ]
  },
  {
   "cell_type": "code",
   "execution_count": 28,
   "id": "66e0b315",
   "metadata": {
    "execution": {
     "iopub.execute_input": "2023-02-23T18:05:09.889076Z",
     "iopub.status.busy": "2023-02-23T18:05:09.888025Z",
     "iopub.status.idle": "2023-02-23T18:05:09.895544Z",
     "shell.execute_reply": "2023-02-23T18:05:09.894232Z"
    },
    "papermill": {
     "duration": 0.379692,
     "end_time": "2023-02-23T18:05:09.898246",
     "exception": false,
     "start_time": "2023-02-23T18:05:09.518554",
     "status": "completed"
    },
    "tags": []
   },
   "outputs": [
    {
     "data": {
      "text/plain": [
       "(76639,)"
      ]
     },
     "execution_count": 28,
     "metadata": {},
     "output_type": "execute_result"
    }
   ],
   "source": [
    "y_test.shape"
   ]
  },
  {
   "cell_type": "markdown",
   "id": "7b754bfc",
   "metadata": {
    "papermill": {
     "duration": 0.362546,
     "end_time": "2023-02-23T18:05:10.656575",
     "exception": false,
     "start_time": "2023-02-23T18:05:10.294029",
     "status": "completed"
    },
    "tags": []
   },
   "source": [
    "## Scalling using robust scaler"
   ]
  },
  {
   "cell_type": "code",
   "execution_count": 29,
   "id": "ec8530e7",
   "metadata": {
    "execution": {
     "iopub.execute_input": "2023-02-23T18:05:11.310065Z",
     "iopub.status.busy": "2023-02-23T18:05:11.308653Z",
     "iopub.status.idle": "2023-02-23T18:05:11.710530Z",
     "shell.execute_reply": "2023-02-23T18:05:11.699890Z"
    },
    "papermill": {
     "duration": 0.728183,
     "end_time": "2023-02-23T18:05:11.713703",
     "exception": false,
     "start_time": "2023-02-23T18:05:10.985520",
     "status": "completed"
    },
    "tags": []
   },
   "outputs": [],
   "source": [
    "ro_scaler = RobustScaler().fit(x_train)\n",
    "x_train_scaled = ro_scaler.transform(x_train)\n",
    "x_test_scaled = ro_scaler.transform(x_test)"
   ]
  },
  {
   "cell_type": "code",
   "execution_count": 30,
   "id": "21a52def",
   "metadata": {
    "execution": {
     "iopub.execute_input": "2023-02-23T18:05:12.479485Z",
     "iopub.status.busy": "2023-02-23T18:05:12.477989Z",
     "iopub.status.idle": "2023-02-23T18:05:12.495383Z",
     "shell.execute_reply": "2023-02-23T18:05:12.493048Z"
    },
    "papermill": {
     "duration": 0.409278,
     "end_time": "2023-02-23T18:05:12.498936",
     "exception": false,
     "start_time": "2023-02-23T18:05:12.089658",
     "status": "completed"
    },
    "tags": []
   },
   "outputs": [],
   "source": [
    "def resultsSummarizer(y_true, y_pred):\n",
    "    cr = classification_report(y_true, y_pred)\n",
    "    acc = accuracy_score(y_true, y_pred)\n",
    "    prec = precision_score(y_true, y_pred, average='macro')\n",
    "    rec = recall_score(y_true, y_pred, average='macro')\n",
    "    f1 = f1_score(y_true, y_pred, average='macro')\n",
    "    sensitivity = recall_score(y_true,y_pred,average='macro')\n",
    "    \n",
    "    \n",
    "    print('Classification Report:', cr)\n",
    "    print(f'Accuracy Score: ' + '{:.4%}'.format(acc))\n",
    "    print(f'Precision Score: ' + '{:.4%}'.format(prec))\n",
    "    print(f'Recall Score: ' + '{:.4%}'.format(rec))\n",
    "    print(f'F_1 Score: ' + '{:.4%}'.format(f1))\n",
    "    print(f'Sensitvity: ' + '{:.4%}'.format(sensitivity))\n",
    "   \n"
   ]
  },
  {
   "cell_type": "markdown",
   "id": "e190cd12",
   "metadata": {
    "papermill": {
     "duration": 0.392384,
     "end_time": "2023-02-23T18:06:52.322885",
     "exception": false,
     "start_time": "2023-02-23T18:06:51.930501",
     "status": "completed"
    },
    "tags": []
   },
   "source": [
    "## KNN"
   ]
  },
  {
   "cell_type": "code",
   "execution_count": 31,
   "id": "e355fa6d",
   "metadata": {
    "execution": {
     "iopub.execute_input": "2023-02-23T18:06:53.071473Z",
     "iopub.status.busy": "2023-02-23T18:06:53.070433Z",
     "iopub.status.idle": "2023-02-23T18:06:53.078855Z",
     "shell.execute_reply": "2023-02-23T18:06:53.077331Z"
    },
    "papermill": {
     "duration": 0.368933,
     "end_time": "2023-02-23T18:06:53.082709",
     "exception": false,
     "start_time": "2023-02-23T18:06:52.713776",
     "status": "completed"
    },
    "tags": []
   },
   "outputs": [],
   "source": [
    "knear=KNeighborsClassifier()\n",
    "#param_grid = {'n_neighbors': [5, 10, 15, 20]}\n",
    "\n",
    "k1 = GridSearchCV(knear, {'n_neighbors': [5]}, cv=5)"
   ]
  },
  {
   "cell_type": "code",
   "execution_count": 32,
   "id": "165bc902",
   "metadata": {
    "execution": {
     "iopub.execute_input": "2023-02-23T18:06:53.783511Z",
     "iopub.status.busy": "2023-02-23T18:06:53.782605Z",
     "iopub.status.idle": "2023-02-23T18:06:55.182183Z",
     "shell.execute_reply": "2023-02-23T18:06:55.180201Z"
    },
    "papermill": {
     "duration": 1.731787,
     "end_time": "2023-02-23T18:06:55.185931",
     "exception": false,
     "start_time": "2023-02-23T18:06:53.454144",
     "status": "completed"
    },
    "tags": []
   },
   "outputs": [
    {
     "data": {
      "text/html": [
       "<style>#sk-container-id-1 {color: black;background-color: white;}#sk-container-id-1 pre{padding: 0;}#sk-container-id-1 div.sk-toggleable {background-color: white;}#sk-container-id-1 label.sk-toggleable__label {cursor: pointer;display: block;width: 100%;margin-bottom: 0;padding: 0.3em;box-sizing: border-box;text-align: center;}#sk-container-id-1 label.sk-toggleable__label-arrow:before {content: \"▸\";float: left;margin-right: 0.25em;color: #696969;}#sk-container-id-1 label.sk-toggleable__label-arrow:hover:before {color: black;}#sk-container-id-1 div.sk-estimator:hover label.sk-toggleable__label-arrow:before {color: black;}#sk-container-id-1 div.sk-toggleable__content {max-height: 0;max-width: 0;overflow: hidden;text-align: left;background-color: #f0f8ff;}#sk-container-id-1 div.sk-toggleable__content pre {margin: 0.2em;color: black;border-radius: 0.25em;background-color: #f0f8ff;}#sk-container-id-1 input.sk-toggleable__control:checked~div.sk-toggleable__content {max-height: 200px;max-width: 100%;overflow: auto;}#sk-container-id-1 input.sk-toggleable__control:checked~label.sk-toggleable__label-arrow:before {content: \"▾\";}#sk-container-id-1 div.sk-estimator input.sk-toggleable__control:checked~label.sk-toggleable__label {background-color: #d4ebff;}#sk-container-id-1 div.sk-label input.sk-toggleable__control:checked~label.sk-toggleable__label {background-color: #d4ebff;}#sk-container-id-1 input.sk-hidden--visually {border: 0;clip: rect(1px 1px 1px 1px);clip: rect(1px, 1px, 1px, 1px);height: 1px;margin: -1px;overflow: hidden;padding: 0;position: absolute;width: 1px;}#sk-container-id-1 div.sk-estimator {font-family: monospace;background-color: #f0f8ff;border: 1px dotted black;border-radius: 0.25em;box-sizing: border-box;margin-bottom: 0.5em;}#sk-container-id-1 div.sk-estimator:hover {background-color: #d4ebff;}#sk-container-id-1 div.sk-parallel-item::after {content: \"\";width: 100%;border-bottom: 1px solid gray;flex-grow: 1;}#sk-container-id-1 div.sk-label:hover label.sk-toggleable__label {background-color: #d4ebff;}#sk-container-id-1 div.sk-serial::before {content: \"\";position: absolute;border-left: 1px solid gray;box-sizing: border-box;top: 0;bottom: 0;left: 50%;z-index: 0;}#sk-container-id-1 div.sk-serial {display: flex;flex-direction: column;align-items: center;background-color: white;padding-right: 0.2em;padding-left: 0.2em;position: relative;}#sk-container-id-1 div.sk-item {position: relative;z-index: 1;}#sk-container-id-1 div.sk-parallel {display: flex;align-items: stretch;justify-content: center;background-color: white;position: relative;}#sk-container-id-1 div.sk-item::before, #sk-container-id-1 div.sk-parallel-item::before {content: \"\";position: absolute;border-left: 1px solid gray;box-sizing: border-box;top: 0;bottom: 0;left: 50%;z-index: -1;}#sk-container-id-1 div.sk-parallel-item {display: flex;flex-direction: column;z-index: 1;position: relative;background-color: white;}#sk-container-id-1 div.sk-parallel-item:first-child::after {align-self: flex-end;width: 50%;}#sk-container-id-1 div.sk-parallel-item:last-child::after {align-self: flex-start;width: 50%;}#sk-container-id-1 div.sk-parallel-item:only-child::after {width: 0;}#sk-container-id-1 div.sk-dashed-wrapped {border: 1px dashed gray;margin: 0 0.4em 0.5em 0.4em;box-sizing: border-box;padding-bottom: 0.4em;background-color: white;}#sk-container-id-1 div.sk-label label {font-family: monospace;font-weight: bold;display: inline-block;line-height: 1.2em;}#sk-container-id-1 div.sk-label-container {text-align: center;}#sk-container-id-1 div.sk-container {/* jupyter's `normalize.less` sets `[hidden] { display: none; }` but bootstrap.min.css set `[hidden] { display: none !important; }` so we also need the `!important` here to be able to override the default hidden behavior on the sphinx rendered scikit-learn.org. See: https://github.com/scikit-learn/scikit-learn/issues/21755 */display: inline-block !important;position: relative;}#sk-container-id-1 div.sk-text-repr-fallback {display: none;}</style><div id=\"sk-container-id-1\" class=\"sk-top-container\"><div class=\"sk-text-repr-fallback\"><pre>GridSearchCV(cv=5, estimator=KNeighborsClassifier(),\n",
       "             param_grid={&#x27;n_neighbors&#x27;: [5]})</pre><b>In a Jupyter environment, please rerun this cell to show the HTML representation or trust the notebook. <br />On GitHub, the HTML representation is unable to render, please try loading this page with nbviewer.org.</b></div><div class=\"sk-container\" hidden><div class=\"sk-item sk-dashed-wrapped\"><div class=\"sk-label-container\"><div class=\"sk-label sk-toggleable\"><input class=\"sk-toggleable__control sk-hidden--visually\" id=\"sk-estimator-id-1\" type=\"checkbox\" ><label for=\"sk-estimator-id-1\" class=\"sk-toggleable__label sk-toggleable__label-arrow\">GridSearchCV</label><div class=\"sk-toggleable__content\"><pre>GridSearchCV(cv=5, estimator=KNeighborsClassifier(),\n",
       "             param_grid={&#x27;n_neighbors&#x27;: [5]})</pre></div></div></div><div class=\"sk-parallel\"><div class=\"sk-parallel-item\"><div class=\"sk-item\"><div class=\"sk-label-container\"><div class=\"sk-label sk-toggleable\"><input class=\"sk-toggleable__control sk-hidden--visually\" id=\"sk-estimator-id-2\" type=\"checkbox\" ><label for=\"sk-estimator-id-2\" class=\"sk-toggleable__label sk-toggleable__label-arrow\">estimator: KNeighborsClassifier</label><div class=\"sk-toggleable__content\"><pre>KNeighborsClassifier()</pre></div></div></div><div class=\"sk-serial\"><div class=\"sk-item\"><div class=\"sk-estimator sk-toggleable\"><input class=\"sk-toggleable__control sk-hidden--visually\" id=\"sk-estimator-id-3\" type=\"checkbox\" ><label for=\"sk-estimator-id-3\" class=\"sk-toggleable__label sk-toggleable__label-arrow\">KNeighborsClassifier</label><div class=\"sk-toggleable__content\"><pre>KNeighborsClassifier()</pre></div></div></div></div></div></div></div></div></div></div>"
      ],
      "text/plain": [
       "GridSearchCV(cv=5, estimator=KNeighborsClassifier(),\n",
       "             param_grid={'n_neighbors': [5]})"
      ]
     },
     "execution_count": 32,
     "metadata": {},
     "output_type": "execute_result"
    }
   ],
   "source": [
    "k1.fit(x_train,y_train)\n",
    "\n",
    "# print(\"Best n_neighbors:\", k1.best_params_['n_neighbors'])"
   ]
  },
  {
   "cell_type": "code",
   "execution_count": 33,
   "id": "779647ab",
   "metadata": {
    "execution": {
     "iopub.execute_input": "2023-02-23T18:06:55.819067Z",
     "iopub.status.busy": "2023-02-23T18:06:55.818615Z",
     "iopub.status.idle": "2023-02-23T18:08:09.516405Z",
     "shell.execute_reply": "2023-02-23T18:08:09.515117Z"
    },
    "papermill": {
     "duration": 74.370446,
     "end_time": "2023-02-23T18:08:09.867648",
     "exception": false,
     "start_time": "2023-02-23T18:06:55.497202",
     "status": "completed"
    },
    "tags": []
   },
   "outputs": [
    {
     "name": "stdout",
     "output_type": "stream",
     "text": [
      "0.9161882331450045\n",
      "0.8867547854225656\n"
     ]
    }
   ],
   "source": [
    "print(k1.score(x_train,y_train))\n",
    "print(k1.score(x_test,y_test))"
   ]
  },
  {
   "cell_type": "code",
   "execution_count": 34,
   "id": "9e8c9b38",
   "metadata": {
    "execution": {
     "iopub.execute_input": "2023-02-23T18:08:33.026078Z",
     "iopub.status.busy": "2023-02-23T18:08:33.025270Z",
     "iopub.status.idle": "2023-02-23T18:08:33.072664Z",
     "shell.execute_reply": "2023-02-23T18:08:33.070865Z"
    },
    "papermill": {
     "duration": 0.333053,
     "end_time": "2023-02-23T18:08:33.077193",
     "exception": false,
     "start_time": "2023-02-23T18:08:32.744140",
     "status": "completed"
    },
    "tags": []
   },
   "outputs": [
    {
     "name": "stdout",
     "output_type": "stream",
     "text": [
      "Classification Report:               precision    recall  f1-score   support\n",
      "\n",
      "           0       0.84      0.86      0.85      6130\n",
      "           1       0.91      0.96      0.93      6104\n",
      "           2       0.91      0.99      0.94      5925\n",
      "           3       0.79      0.88      0.83      6121\n",
      "           4       0.81      0.66      0.73      2055\n",
      "           5       0.87      0.93      0.90      5871\n",
      "           6       0.99      1.00      0.99      6023\n",
      "           7       0.83      0.52      0.64      8079\n",
      "           8       0.86      0.82      0.84      6186\n",
      "           9       0.98      1.00      0.99      6234\n",
      "          10       0.97      1.00      0.99      6196\n",
      "          11       0.90      0.96      0.93      5580\n",
      "          12       0.83      0.93      0.87      6135\n",
      "\n",
      "    accuracy                           0.89     76639\n",
      "   macro avg       0.88      0.89      0.88     76639\n",
      "weighted avg       0.89      0.89      0.88     76639\n",
      "\n",
      "Accuracy Score: 88.6755%\n",
      "Precision Score: 88.2581%\n",
      "Recall Score: 88.5272%\n",
      "F_1 Score: 87.9625%\n",
      "Sensitvity: 88.5272%\n"
     ]
    }
   ],
   "source": [
    "y_pred=k1.predict(x_test)\n",
    "\n",
    "resultsSummarizer(y_test, y_pred)"
   ]
  },
  {
   "cell_type": "code",
   "execution_count": 35,
   "id": "016d5859",
   "metadata": {},
   "outputs": [
    {
     "data": {
      "text/html": [
       "<div>\n",
       "<style scoped>\n",
       "    .dataframe tbody tr th:only-of-type {\n",
       "        vertical-align: middle;\n",
       "    }\n",
       "\n",
       "    .dataframe tbody tr th {\n",
       "        vertical-align: top;\n",
       "    }\n",
       "\n",
       "    .dataframe thead th {\n",
       "        text-align: right;\n",
       "    }\n",
       "</style>\n",
       "<table border=\"1\" class=\"dataframe\">\n",
       "  <thead>\n",
       "    <tr style=\"text-align: right;\">\n",
       "      <th></th>\n",
       "      <th>y_Test</th>\n",
       "      <th>y_pred</th>\n",
       "    </tr>\n",
       "  </thead>\n",
       "  <tbody>\n",
       "    <tr>\n",
       "      <th>0</th>\n",
       "      <td>10</td>\n",
       "      <td>10</td>\n",
       "    </tr>\n",
       "    <tr>\n",
       "      <th>1</th>\n",
       "      <td>0</td>\n",
       "      <td>0</td>\n",
       "    </tr>\n",
       "    <tr>\n",
       "      <th>2</th>\n",
       "      <td>8</td>\n",
       "      <td>8</td>\n",
       "    </tr>\n",
       "    <tr>\n",
       "      <th>3</th>\n",
       "      <td>12</td>\n",
       "      <td>0</td>\n",
       "    </tr>\n",
       "    <tr>\n",
       "      <th>4</th>\n",
       "      <td>11</td>\n",
       "      <td>11</td>\n",
       "    </tr>\n",
       "    <tr>\n",
       "      <th>5</th>\n",
       "      <td>3</td>\n",
       "      <td>3</td>\n",
       "    </tr>\n",
       "    <tr>\n",
       "      <th>6</th>\n",
       "      <td>1</td>\n",
       "      <td>1</td>\n",
       "    </tr>\n",
       "    <tr>\n",
       "      <th>7</th>\n",
       "      <td>9</td>\n",
       "      <td>9</td>\n",
       "    </tr>\n",
       "    <tr>\n",
       "      <th>8</th>\n",
       "      <td>11</td>\n",
       "      <td>11</td>\n",
       "    </tr>\n",
       "    <tr>\n",
       "      <th>9</th>\n",
       "      <td>10</td>\n",
       "      <td>10</td>\n",
       "    </tr>\n",
       "    <tr>\n",
       "      <th>10</th>\n",
       "      <td>10</td>\n",
       "      <td>10</td>\n",
       "    </tr>\n",
       "    <tr>\n",
       "      <th>11</th>\n",
       "      <td>1</td>\n",
       "      <td>1</td>\n",
       "    </tr>\n",
       "    <tr>\n",
       "      <th>12</th>\n",
       "      <td>9</td>\n",
       "      <td>9</td>\n",
       "    </tr>\n",
       "    <tr>\n",
       "      <th>13</th>\n",
       "      <td>7</td>\n",
       "      <td>6</td>\n",
       "    </tr>\n",
       "    <tr>\n",
       "      <th>14</th>\n",
       "      <td>9</td>\n",
       "      <td>9</td>\n",
       "    </tr>\n",
       "    <tr>\n",
       "      <th>15</th>\n",
       "      <td>0</td>\n",
       "      <td>0</td>\n",
       "    </tr>\n",
       "    <tr>\n",
       "      <th>16</th>\n",
       "      <td>12</td>\n",
       "      <td>12</td>\n",
       "    </tr>\n",
       "    <tr>\n",
       "      <th>17</th>\n",
       "      <td>7</td>\n",
       "      <td>7</td>\n",
       "    </tr>\n",
       "    <tr>\n",
       "      <th>18</th>\n",
       "      <td>8</td>\n",
       "      <td>3</td>\n",
       "    </tr>\n",
       "    <tr>\n",
       "      <th>19</th>\n",
       "      <td>8</td>\n",
       "      <td>8</td>\n",
       "    </tr>\n",
       "  </tbody>\n",
       "</table>\n",
       "</div>"
      ],
      "text/plain": [
       "    y_Test    y_pred  \n",
       "0         10        10\n",
       "1          0         0\n",
       "2          8         8\n",
       "3         12         0\n",
       "4         11        11\n",
       "5          3         3\n",
       "6          1         1\n",
       "7          9         9\n",
       "8         11        11\n",
       "9         10        10\n",
       "10        10        10\n",
       "11         1         1\n",
       "12         9         9\n",
       "13         7         6\n",
       "14         9         9\n",
       "15         0         0\n",
       "16        12        12\n",
       "17         7         7\n",
       "18         8         3\n",
       "19         8         8"
      ]
     },
     "execution_count": 35,
     "metadata": {},
     "output_type": "execute_result"
    }
   ],
   "source": [
    "data=pd.DataFrame({'y_Test  ':y_test,'y_pred  ':y_pred})\n",
    "data[:20]"
   ]
  },
  {
   "cell_type": "code",
   "execution_count": 36,
   "id": "a0b73fb5",
   "metadata": {},
   "outputs": [
    {
     "name": "stdout",
     "output_type": "stream",
     "text": [
      "GridSearchCV(cv=5, estimator=KNeighborsClassifier(),\n",
      "             param_grid={'n_neighbors': [5]})\n"
     ]
    }
   ],
   "source": [
    "import pickle\n",
    "\n",
    "pickle.dump(k1, open(\"KNNap.pkl\", \"wb\"))\n",
    "\n",
    "print(pickle.load(open(\"KNNap.pkl\", \"rb\")))"
   ]
  },
  {
   "cell_type": "markdown",
   "id": "0f791188",
   "metadata": {},
   "source": [
    "## KNN with Robust Scaler"
   ]
  },
  {
   "cell_type": "code",
   "execution_count": 37,
   "id": "31d2a477",
   "metadata": {
    "execution": {
     "iopub.execute_input": "2023-02-23T18:08:33.687818Z",
     "iopub.status.busy": "2023-02-23T18:08:33.687299Z",
     "iopub.status.idle": "2023-02-23T18:09:14.583510Z",
     "shell.execute_reply": "2023-02-23T18:09:14.581987Z"
    },
    "papermill": {
     "duration": 41.17884,
     "end_time": "2023-02-23T18:09:14.586716",
     "exception": false,
     "start_time": "2023-02-23T18:08:33.407876",
     "status": "completed"
    },
    "tags": []
   },
   "outputs": [
    {
     "name": "stdout",
     "output_type": "stream",
     "text": [
      "0.953417972572711\n"
     ]
    }
   ],
   "source": [
    "knear=KNeighborsClassifier()\n",
    "# param_grid = {'n_neighbors': [5, 10, 15, 20]}\n",
    "\n",
    "k2 = GridSearchCV(knear, {'n_neighbors': [5]}, cv=5)\n",
    "k2.fit(x_train_scaled, y_train)\n",
    "\n",
    "# print(\"Best n_neighbors:\", k2.best_params_['n_neighbors'])\n",
    "print(k2.score(x_train_scaled, y_train))"
   ]
  },
  {
   "cell_type": "code",
   "execution_count": 38,
   "id": "7218f873",
   "metadata": {},
   "outputs": [],
   "source": [
    "y_pred_knn = k2.predict(x_test_scaled)"
   ]
  },
  {
   "cell_type": "code",
   "execution_count": 39,
   "id": "d9428ad6",
   "metadata": {
    "execution": {
     "iopub.execute_input": "2023-02-23T18:09:15.130105Z",
     "iopub.status.busy": "2023-02-23T18:09:15.129139Z",
     "iopub.status.idle": "2023-02-23T18:09:16.503650Z",
     "shell.execute_reply": "2023-02-23T18:09:16.502481Z"
    },
    "papermill": {
     "duration": 1.648742,
     "end_time": "2023-02-23T18:09:16.508213",
     "exception": false,
     "start_time": "2023-02-23T18:09:14.859471",
     "status": "completed"
    },
    "tags": []
   },
   "outputs": [
    {
     "name": "stdout",
     "output_type": "stream",
     "text": [
      "Classification Report:               precision    recall  f1-score   support\n",
      "\n",
      "           0       0.93      0.96      0.94      6130\n",
      "           1       0.95      1.00      0.97      6104\n",
      "           2       0.95      1.00      0.98      5925\n",
      "           3       0.87      0.95      0.91      6121\n",
      "           4       0.89      0.76      0.82      2055\n",
      "           5       0.93      0.99      0.96      5871\n",
      "           6       0.99      1.00      0.99      6023\n",
      "           7       0.95      0.64      0.76      8079\n",
      "           8       0.92      0.93      0.92      6186\n",
      "           9       0.98      1.00      0.99      6234\n",
      "          10       0.98      1.00      0.99      6196\n",
      "          11       0.95      0.99      0.97      5580\n",
      "          12       0.88      0.99      0.93      6135\n",
      "\n",
      "    accuracy                           0.94     76639\n",
      "   macro avg       0.94      0.94      0.93     76639\n",
      "weighted avg       0.94      0.94      0.94     76639\n",
      "\n",
      "Accuracy Score: 93.8791%\n",
      "Precision Score: 93.6988%\n",
      "Recall Score: 93.7716%\n",
      "F_1 Score: 93.3957%\n",
      "Sensitvity: 93.7716%\n"
     ]
    }
   ],
   "source": [
    "resultsSummarizer(y_test, y_pred_knn)"
   ]
  },
  {
   "cell_type": "code",
   "execution_count": 40,
   "id": "2a610748",
   "metadata": {},
   "outputs": [
    {
     "name": "stdout",
     "output_type": "stream",
     "text": [
      "GridSearchCV(cv=5, estimator=KNeighborsClassifier(),\n",
      "             param_grid={'n_neighbors': [5]})\n"
     ]
    }
   ],
   "source": [
    "pickle.dump(k2, open(\"KnnRsAp.pkl\", \"wb\"))\n",
    "\n",
    "print(pickle.load(open(\"KnnRsAp.pkl\", \"rb\")))"
   ]
  },
  {
   "cell_type": "markdown",
   "id": "c66df2fa",
   "metadata": {
    "papermill": {
     "duration": 0.272118,
     "end_time": "2023-02-23T18:09:17.069921",
     "exception": false,
     "start_time": "2023-02-23T18:09:16.797803",
     "status": "completed"
    },
    "tags": []
   },
   "source": [
    "## Decision Tree"
   ]
  },
  {
   "cell_type": "code",
   "execution_count": 41,
   "id": "510e6a20",
   "metadata": {
    "execution": {
     "iopub.execute_input": "2023-02-23T18:09:17.606973Z",
     "iopub.status.busy": "2023-02-23T18:09:17.606117Z",
     "iopub.status.idle": "2023-02-23T18:09:17.611756Z",
     "shell.execute_reply": "2023-02-23T18:09:17.610788Z"
    },
    "papermill": {
     "duration": 0.27519,
     "end_time": "2023-02-23T18:09:17.614482",
     "exception": false,
     "start_time": "2023-02-23T18:09:17.339292",
     "status": "completed"
    },
    "tags": []
   },
   "outputs": [],
   "source": [
    "dt=DecisionTreeClassifier()"
   ]
  },
  {
   "cell_type": "code",
   "execution_count": 42,
   "id": "428d9b7a",
   "metadata": {},
   "outputs": [
    {
     "data": {
      "text/html": [
       "<style>#sk-container-id-2 {color: black;background-color: white;}#sk-container-id-2 pre{padding: 0;}#sk-container-id-2 div.sk-toggleable {background-color: white;}#sk-container-id-2 label.sk-toggleable__label {cursor: pointer;display: block;width: 100%;margin-bottom: 0;padding: 0.3em;box-sizing: border-box;text-align: center;}#sk-container-id-2 label.sk-toggleable__label-arrow:before {content: \"▸\";float: left;margin-right: 0.25em;color: #696969;}#sk-container-id-2 label.sk-toggleable__label-arrow:hover:before {color: black;}#sk-container-id-2 div.sk-estimator:hover label.sk-toggleable__label-arrow:before {color: black;}#sk-container-id-2 div.sk-toggleable__content {max-height: 0;max-width: 0;overflow: hidden;text-align: left;background-color: #f0f8ff;}#sk-container-id-2 div.sk-toggleable__content pre {margin: 0.2em;color: black;border-radius: 0.25em;background-color: #f0f8ff;}#sk-container-id-2 input.sk-toggleable__control:checked~div.sk-toggleable__content {max-height: 200px;max-width: 100%;overflow: auto;}#sk-container-id-2 input.sk-toggleable__control:checked~label.sk-toggleable__label-arrow:before {content: \"▾\";}#sk-container-id-2 div.sk-estimator input.sk-toggleable__control:checked~label.sk-toggleable__label {background-color: #d4ebff;}#sk-container-id-2 div.sk-label input.sk-toggleable__control:checked~label.sk-toggleable__label {background-color: #d4ebff;}#sk-container-id-2 input.sk-hidden--visually {border: 0;clip: rect(1px 1px 1px 1px);clip: rect(1px, 1px, 1px, 1px);height: 1px;margin: -1px;overflow: hidden;padding: 0;position: absolute;width: 1px;}#sk-container-id-2 div.sk-estimator {font-family: monospace;background-color: #f0f8ff;border: 1px dotted black;border-radius: 0.25em;box-sizing: border-box;margin-bottom: 0.5em;}#sk-container-id-2 div.sk-estimator:hover {background-color: #d4ebff;}#sk-container-id-2 div.sk-parallel-item::after {content: \"\";width: 100%;border-bottom: 1px solid gray;flex-grow: 1;}#sk-container-id-2 div.sk-label:hover label.sk-toggleable__label {background-color: #d4ebff;}#sk-container-id-2 div.sk-serial::before {content: \"\";position: absolute;border-left: 1px solid gray;box-sizing: border-box;top: 0;bottom: 0;left: 50%;z-index: 0;}#sk-container-id-2 div.sk-serial {display: flex;flex-direction: column;align-items: center;background-color: white;padding-right: 0.2em;padding-left: 0.2em;position: relative;}#sk-container-id-2 div.sk-item {position: relative;z-index: 1;}#sk-container-id-2 div.sk-parallel {display: flex;align-items: stretch;justify-content: center;background-color: white;position: relative;}#sk-container-id-2 div.sk-item::before, #sk-container-id-2 div.sk-parallel-item::before {content: \"\";position: absolute;border-left: 1px solid gray;box-sizing: border-box;top: 0;bottom: 0;left: 50%;z-index: -1;}#sk-container-id-2 div.sk-parallel-item {display: flex;flex-direction: column;z-index: 1;position: relative;background-color: white;}#sk-container-id-2 div.sk-parallel-item:first-child::after {align-self: flex-end;width: 50%;}#sk-container-id-2 div.sk-parallel-item:last-child::after {align-self: flex-start;width: 50%;}#sk-container-id-2 div.sk-parallel-item:only-child::after {width: 0;}#sk-container-id-2 div.sk-dashed-wrapped {border: 1px dashed gray;margin: 0 0.4em 0.5em 0.4em;box-sizing: border-box;padding-bottom: 0.4em;background-color: white;}#sk-container-id-2 div.sk-label label {font-family: monospace;font-weight: bold;display: inline-block;line-height: 1.2em;}#sk-container-id-2 div.sk-label-container {text-align: center;}#sk-container-id-2 div.sk-container {/* jupyter's `normalize.less` sets `[hidden] { display: none; }` but bootstrap.min.css set `[hidden] { display: none !important; }` so we also need the `!important` here to be able to override the default hidden behavior on the sphinx rendered scikit-learn.org. See: https://github.com/scikit-learn/scikit-learn/issues/21755 */display: inline-block !important;position: relative;}#sk-container-id-2 div.sk-text-repr-fallback {display: none;}</style><div id=\"sk-container-id-2\" class=\"sk-top-container\"><div class=\"sk-text-repr-fallback\"><pre>DecisionTreeClassifier()</pre><b>In a Jupyter environment, please rerun this cell to show the HTML representation or trust the notebook. <br />On GitHub, the HTML representation is unable to render, please try loading this page with nbviewer.org.</b></div><div class=\"sk-container\" hidden><div class=\"sk-item\"><div class=\"sk-estimator sk-toggleable\"><input class=\"sk-toggleable__control sk-hidden--visually\" id=\"sk-estimator-id-4\" type=\"checkbox\" checked><label for=\"sk-estimator-id-4\" class=\"sk-toggleable__label sk-toggleable__label-arrow\">DecisionTreeClassifier</label><div class=\"sk-toggleable__content\"><pre>DecisionTreeClassifier()</pre></div></div></div></div></div>"
      ],
      "text/plain": [
       "DecisionTreeClassifier()"
      ]
     },
     "execution_count": 42,
     "metadata": {},
     "output_type": "execute_result"
    }
   ],
   "source": [
    "dt.fit(x_train,y_train)"
   ]
  },
  {
   "cell_type": "code",
   "execution_count": 43,
   "id": "6743d91e",
   "metadata": {
    "execution": {
     "iopub.execute_input": "2023-02-23T18:09:26.355103Z",
     "iopub.status.busy": "2023-02-23T18:09:26.354687Z",
     "iopub.status.idle": "2023-02-23T18:09:26.446143Z",
     "shell.execute_reply": "2023-02-23T18:09:26.445067Z"
    },
    "papermill": {
     "duration": 0.358729,
     "end_time": "2023-02-23T18:09:26.448774",
     "exception": false,
     "start_time": "2023-02-23T18:09:26.090045",
     "status": "completed"
    },
    "tags": []
   },
   "outputs": [
    {
     "name": "stdout",
     "output_type": "stream",
     "text": [
      "1.0\n",
      "0.9209932279909706\n"
     ]
    }
   ],
   "source": [
    "print(dt.score(x_train,y_train))\n",
    "print(dt.score(x_test,y_test))"
   ]
  },
  {
   "cell_type": "code",
   "execution_count": null,
   "id": "7f4a9f37",
   "metadata": {
    "execution": {
     "iopub.execute_input": "2023-02-23T18:09:27.010321Z",
     "iopub.status.busy": "2023-02-23T18:09:27.009560Z",
     "iopub.status.idle": "2023-02-23T18:09:27.044793Z",
     "shell.execute_reply": "2023-02-23T18:09:27.043749Z"
    },
    "papermill": {
     "duration": 0.324409,
     "end_time": "2023-02-23T18:09:27.047059",
     "exception": false,
     "start_time": "2023-02-23T18:09:26.722650",
     "status": "completed"
    },
    "tags": []
   },
   "outputs": [],
   "source": []
  },
  {
   "cell_type": "markdown",
   "id": "b83ae0d9",
   "metadata": {},
   "source": [
    "## Decision Tree with Robust Scaler"
   ]
  },
  {
   "cell_type": "code",
   "execution_count": 44,
   "id": "d340b93d",
   "metadata": {
    "execution": {
     "iopub.execute_input": "2023-02-23T18:09:27.579911Z",
     "iopub.status.busy": "2023-02-23T18:09:27.578599Z",
     "iopub.status.idle": "2023-02-23T18:09:34.991671Z",
     "shell.execute_reply": "2023-02-23T18:09:34.990291Z"
    },
    "papermill": {
     "duration": 7.685386,
     "end_time": "2023-02-23T18:09:34.994925",
     "exception": false,
     "start_time": "2023-02-23T18:09:27.309539",
     "status": "completed"
    },
    "tags": []
   },
   "outputs": [
    {
     "name": "stdout",
     "output_type": "stream",
     "text": [
      "1.0\n"
     ]
    }
   ],
   "source": [
    "dt2=DecisionTreeClassifier()\n",
    "dt2.fit(x_train_scaled, y_train)\n",
    "print(dt2.score(x_train_scaled, y_train))"
   ]
  },
  {
   "cell_type": "code",
   "execution_count": 45,
   "id": "ecc4d913",
   "metadata": {
    "execution": {
     "iopub.execute_input": "2023-02-23T18:09:35.550607Z",
     "iopub.status.busy": "2023-02-23T18:09:35.549861Z",
     "iopub.status.idle": "2023-02-23T18:09:37.123610Z",
     "shell.execute_reply": "2023-02-23T18:09:37.122252Z"
    },
    "papermill": {
     "duration": 1.856338,
     "end_time": "2023-02-23T18:09:37.126267",
     "exception": false,
     "start_time": "2023-02-23T18:09:35.269929",
     "status": "completed"
    },
    "tags": []
   },
   "outputs": [
    {
     "name": "stdout",
     "output_type": "stream",
     "text": [
      "Classification Report:               precision    recall  f1-score   support\n",
      "\n",
      "           0       0.90      0.91      0.90      6130\n",
      "           1       0.96      0.97      0.97      6104\n",
      "           2       0.97      0.97      0.97      5925\n",
      "           3       0.92      0.92      0.92      6121\n",
      "           4       0.82      0.81      0.81      2055\n",
      "           5       0.93      0.94      0.93      5871\n",
      "           6       0.99      0.99      0.99      6023\n",
      "           7       0.73      0.70      0.72      8079\n",
      "           8       0.92      0.92      0.92      6186\n",
      "           9       0.98      0.98      0.98      6234\n",
      "          10       0.98      0.98      0.98      6196\n",
      "          11       0.95      0.96      0.95      5580\n",
      "          12       0.93      0.93      0.93      6135\n",
      "\n",
      "    accuracy                           0.92     76639\n",
      "   macro avg       0.92      0.92      0.92     76639\n",
      "weighted avg       0.92      0.92      0.92     76639\n",
      "\n",
      "Accuracy Score: 92.1098%\n",
      "Precision Score: 92.0016%\n",
      "Recall Score: 92.1078%\n",
      "F_1 Score: 92.0514%\n",
      "Sensitvity: 92.1078%\n"
     ]
    }
   ],
   "source": [
    "y_pred_tree = dt2.predict(x_test_scaled)\n",
    "\n",
    "resultsSummarizer(y_test, y_pred_tree)"
   ]
  },
  {
   "cell_type": "code",
   "execution_count": 46,
   "id": "6eac94b7",
   "metadata": {},
   "outputs": [
    {
     "name": "stdout",
     "output_type": "stream",
     "text": [
      "DecisionTreeClassifier()\n"
     ]
    }
   ],
   "source": [
    "\n",
    "pickle.dump(dt2, open(\"DtRsAp.pkl\", \"wb\"))\n",
    "\n",
    "print(pickle.load(open(\"DtRsAp.pkl\", \"rb\")))"
   ]
  },
  {
   "cell_type": "markdown",
   "id": "90daf274",
   "metadata": {
    "papermill": {
     "duration": 0.273853,
     "end_time": "2023-02-23T18:09:37.678467",
     "exception": false,
     "start_time": "2023-02-23T18:09:37.404614",
     "status": "completed"
    },
    "tags": []
   },
   "source": [
    "## Random Forest Classifier"
   ]
  },
  {
   "cell_type": "code",
   "execution_count": 47,
   "id": "f297973a",
   "metadata": {
    "execution": {
     "iopub.execute_input": "2023-02-23T18:09:38.220312Z",
     "iopub.status.busy": "2023-02-23T18:09:38.218929Z",
     "iopub.status.idle": "2023-02-23T18:09:38.225312Z",
     "shell.execute_reply": "2023-02-23T18:09:38.224335Z"
    },
    "papermill": {
     "duration": 0.280146,
     "end_time": "2023-02-23T18:09:38.227989",
     "exception": false,
     "start_time": "2023-02-23T18:09:37.947843",
     "status": "completed"
    },
    "tags": []
   },
   "outputs": [],
   "source": [
    "rf=RandomForestClassifier()"
   ]
  },
  {
   "cell_type": "code",
   "execution_count": 48,
   "id": "1aaaaea7",
   "metadata": {},
   "outputs": [
    {
     "data": {
      "text/html": [
       "<style>#sk-container-id-3 {color: black;background-color: white;}#sk-container-id-3 pre{padding: 0;}#sk-container-id-3 div.sk-toggleable {background-color: white;}#sk-container-id-3 label.sk-toggleable__label {cursor: pointer;display: block;width: 100%;margin-bottom: 0;padding: 0.3em;box-sizing: border-box;text-align: center;}#sk-container-id-3 label.sk-toggleable__label-arrow:before {content: \"▸\";float: left;margin-right: 0.25em;color: #696969;}#sk-container-id-3 label.sk-toggleable__label-arrow:hover:before {color: black;}#sk-container-id-3 div.sk-estimator:hover label.sk-toggleable__label-arrow:before {color: black;}#sk-container-id-3 div.sk-toggleable__content {max-height: 0;max-width: 0;overflow: hidden;text-align: left;background-color: #f0f8ff;}#sk-container-id-3 div.sk-toggleable__content pre {margin: 0.2em;color: black;border-radius: 0.25em;background-color: #f0f8ff;}#sk-container-id-3 input.sk-toggleable__control:checked~div.sk-toggleable__content {max-height: 200px;max-width: 100%;overflow: auto;}#sk-container-id-3 input.sk-toggleable__control:checked~label.sk-toggleable__label-arrow:before {content: \"▾\";}#sk-container-id-3 div.sk-estimator input.sk-toggleable__control:checked~label.sk-toggleable__label {background-color: #d4ebff;}#sk-container-id-3 div.sk-label input.sk-toggleable__control:checked~label.sk-toggleable__label {background-color: #d4ebff;}#sk-container-id-3 input.sk-hidden--visually {border: 0;clip: rect(1px 1px 1px 1px);clip: rect(1px, 1px, 1px, 1px);height: 1px;margin: -1px;overflow: hidden;padding: 0;position: absolute;width: 1px;}#sk-container-id-3 div.sk-estimator {font-family: monospace;background-color: #f0f8ff;border: 1px dotted black;border-radius: 0.25em;box-sizing: border-box;margin-bottom: 0.5em;}#sk-container-id-3 div.sk-estimator:hover {background-color: #d4ebff;}#sk-container-id-3 div.sk-parallel-item::after {content: \"\";width: 100%;border-bottom: 1px solid gray;flex-grow: 1;}#sk-container-id-3 div.sk-label:hover label.sk-toggleable__label {background-color: #d4ebff;}#sk-container-id-3 div.sk-serial::before {content: \"\";position: absolute;border-left: 1px solid gray;box-sizing: border-box;top: 0;bottom: 0;left: 50%;z-index: 0;}#sk-container-id-3 div.sk-serial {display: flex;flex-direction: column;align-items: center;background-color: white;padding-right: 0.2em;padding-left: 0.2em;position: relative;}#sk-container-id-3 div.sk-item {position: relative;z-index: 1;}#sk-container-id-3 div.sk-parallel {display: flex;align-items: stretch;justify-content: center;background-color: white;position: relative;}#sk-container-id-3 div.sk-item::before, #sk-container-id-3 div.sk-parallel-item::before {content: \"\";position: absolute;border-left: 1px solid gray;box-sizing: border-box;top: 0;bottom: 0;left: 50%;z-index: -1;}#sk-container-id-3 div.sk-parallel-item {display: flex;flex-direction: column;z-index: 1;position: relative;background-color: white;}#sk-container-id-3 div.sk-parallel-item:first-child::after {align-self: flex-end;width: 50%;}#sk-container-id-3 div.sk-parallel-item:last-child::after {align-self: flex-start;width: 50%;}#sk-container-id-3 div.sk-parallel-item:only-child::after {width: 0;}#sk-container-id-3 div.sk-dashed-wrapped {border: 1px dashed gray;margin: 0 0.4em 0.5em 0.4em;box-sizing: border-box;padding-bottom: 0.4em;background-color: white;}#sk-container-id-3 div.sk-label label {font-family: monospace;font-weight: bold;display: inline-block;line-height: 1.2em;}#sk-container-id-3 div.sk-label-container {text-align: center;}#sk-container-id-3 div.sk-container {/* jupyter's `normalize.less` sets `[hidden] { display: none; }` but bootstrap.min.css set `[hidden] { display: none !important; }` so we also need the `!important` here to be able to override the default hidden behavior on the sphinx rendered scikit-learn.org. See: https://github.com/scikit-learn/scikit-learn/issues/21755 */display: inline-block !important;position: relative;}#sk-container-id-3 div.sk-text-repr-fallback {display: none;}</style><div id=\"sk-container-id-3\" class=\"sk-top-container\"><div class=\"sk-text-repr-fallback\"><pre>RandomForestClassifier()</pre><b>In a Jupyter environment, please rerun this cell to show the HTML representation or trust the notebook. <br />On GitHub, the HTML representation is unable to render, please try loading this page with nbviewer.org.</b></div><div class=\"sk-container\" hidden><div class=\"sk-item\"><div class=\"sk-estimator sk-toggleable\"><input class=\"sk-toggleable__control sk-hidden--visually\" id=\"sk-estimator-id-5\" type=\"checkbox\" checked><label for=\"sk-estimator-id-5\" class=\"sk-toggleable__label sk-toggleable__label-arrow\">RandomForestClassifier</label><div class=\"sk-toggleable__content\"><pre>RandomForestClassifier()</pre></div></div></div></div></div>"
      ],
      "text/plain": [
       "RandomForestClassifier()"
      ]
     },
     "execution_count": 48,
     "metadata": {},
     "output_type": "execute_result"
    }
   ],
   "source": [
    "rf.fit(x_train,y_train)"
   ]
  },
  {
   "cell_type": "code",
   "execution_count": 49,
   "id": "0c980ae6",
   "metadata": {
    "execution": {
     "iopub.execute_input": "2023-02-23T18:10:59.585093Z",
     "iopub.status.busy": "2023-02-23T18:10:59.583698Z",
     "iopub.status.idle": "2023-02-23T18:11:04.381990Z",
     "shell.execute_reply": "2023-02-23T18:11:04.379709Z"
    },
    "papermill": {
     "duration": 5.106617,
     "end_time": "2023-02-23T18:11:04.386202",
     "exception": false,
     "start_time": "2023-02-23T18:10:59.279585",
     "status": "completed"
    },
    "tags": []
   },
   "outputs": [
    {
     "name": "stdout",
     "output_type": "stream",
     "text": [
      "0.9999902138597841\n",
      "0.9720377353566722\n"
     ]
    }
   ],
   "source": [
    "print(rf.score(x_train,y_train))\n",
    "print(rf.score(x_test,y_test))"
   ]
  },
  {
   "cell_type": "code",
   "execution_count": 50,
   "id": "bc4c47dc",
   "metadata": {
    "execution": {
     "iopub.execute_input": "2023-02-23T18:11:05.005003Z",
     "iopub.status.busy": "2023-02-23T18:11:05.004573Z",
     "iopub.status.idle": "2023-02-23T18:11:06.573309Z",
     "shell.execute_reply": "2023-02-23T18:11:06.571106Z"
    },
    "papermill": {
     "duration": 1.88917,
     "end_time": "2023-02-23T18:11:06.577102",
     "exception": false,
     "start_time": "2023-02-23T18:11:04.687932",
     "status": "completed"
    },
    "tags": []
   },
   "outputs": [
    {
     "name": "stdout",
     "output_type": "stream",
     "text": [
      "Classification Report:               precision    recall  f1-score   support\n",
      "\n",
      "           0       0.96      0.99      0.98      6130\n",
      "           1       0.97      1.00      0.99      6104\n",
      "           2       0.99      1.00      0.99      5925\n",
      "           3       0.96      0.98      0.97      6121\n",
      "           4       0.95      0.92      0.94      2055\n",
      "           5       0.97      0.99      0.98      5871\n",
      "           6       0.99      1.00      0.99      6023\n",
      "           7       0.97      0.81      0.88      8079\n",
      "           8       0.96      0.98      0.97      6186\n",
      "           9       0.98      1.00      0.99      6234\n",
      "          10       0.98      1.00      0.99      6196\n",
      "          11       0.97      1.00      0.99      5580\n",
      "          12       0.97      1.00      0.98      6135\n",
      "\n",
      "    accuracy                           0.97     76639\n",
      "   macro avg       0.97      0.97      0.97     76639\n",
      "weighted avg       0.97      0.97      0.97     76639\n",
      "\n",
      "Accuracy Score: 97.2038%\n",
      "Precision Score: 97.1181%\n",
      "Recall Score: 97.3625%\n",
      "F_1 Score: 97.1747%\n",
      "Sensitvity: 97.3625%\n"
     ]
    }
   ],
   "source": [
    "y_pred_rf = rf.predict(x_test)\n",
    "resultsSummarizer(y_test, y_pred_rf)"
   ]
  },
  {
   "cell_type": "code",
   "execution_count": 51,
   "id": "e7255094",
   "metadata": {},
   "outputs": [
    {
     "name": "stdout",
     "output_type": "stream",
     "text": [
      "RandomForestClassifier()\n"
     ]
    }
   ],
   "source": [
    "pickle.dump(rf, open(\"RFap.pkl\", \"wb\"))\n",
    "\n",
    "print(pickle.load(open(\"RFap.pkl\", \"rb\")))"
   ]
  },
  {
   "cell_type": "markdown",
   "id": "47baa9f7",
   "metadata": {},
   "source": [
    "## Random Forest Classifier with Robust Scaler"
   ]
  },
  {
   "cell_type": "code",
   "execution_count": 52,
   "id": "d2da51ef",
   "metadata": {
    "execution": {
     "iopub.execute_input": "2023-02-23T18:11:07.178868Z",
     "iopub.status.busy": "2023-02-23T18:11:07.177977Z",
     "iopub.status.idle": "2023-02-23T18:17:49.504565Z",
     "shell.execute_reply": "2023-02-23T18:17:49.503031Z"
    },
    "papermill": {
     "duration": 402.625799,
     "end_time": "2023-02-23T18:17:49.508225",
     "exception": false,
     "start_time": "2023-02-23T18:11:06.882426",
     "status": "completed"
    },
    "tags": []
   },
   "outputs": [
    {
     "name": "stdout",
     "output_type": "stream",
     "text": [
      "RandomForestClassifier()\n"
     ]
    }
   ],
   "source": [
    "rfst = RandomForestClassifier()\n",
    "rfst.fit(x_train_scaled, y_train)\n",
    "print(rfst.fit(x_train_scaled, y_train))"
   ]
  },
  {
   "cell_type": "code",
   "execution_count": 53,
   "id": "17cd32c4",
   "metadata": {
    "execution": {
     "iopub.execute_input": "2023-02-23T18:17:50.046300Z",
     "iopub.status.busy": "2023-02-23T18:17:50.045757Z",
     "iopub.status.idle": "2023-02-23T18:17:51.340983Z",
     "shell.execute_reply": "2023-02-23T18:17:51.339831Z"
    },
    "papermill": {
     "duration": 1.567384,
     "end_time": "2023-02-23T18:17:51.343465",
     "exception": false,
     "start_time": "2023-02-23T18:17:49.776081",
     "status": "completed"
    },
    "tags": []
   },
   "outputs": [
    {
     "name": "stdout",
     "output_type": "stream",
     "text": [
      "Classification Report:               precision    recall  f1-score   support\n",
      "\n",
      "           0       0.96      0.99      0.97      6130\n",
      "           1       0.97      1.00      0.99      6104\n",
      "           2       0.99      1.00      0.99      5925\n",
      "           3       0.96      0.98      0.97      6121\n",
      "           4       0.95      0.92      0.94      2055\n",
      "           5       0.97      0.99      0.98      5871\n",
      "           6       0.99      1.00      0.99      6023\n",
      "           7       0.97      0.81      0.88      8079\n",
      "           8       0.96      0.98      0.97      6186\n",
      "           9       0.98      1.00      0.99      6234\n",
      "          10       0.99      1.00      0.99      6196\n",
      "          11       0.97      1.00      0.99      5580\n",
      "          12       0.97      0.99      0.98      6135\n",
      "\n",
      "    accuracy                           0.97     76639\n",
      "   macro avg       0.97      0.97      0.97     76639\n",
      "weighted avg       0.97      0.97      0.97     76639\n",
      "\n",
      "Accuracy Score: 97.2233%\n",
      "Precision Score: 97.1424%\n",
      "Recall Score: 97.3889%\n",
      "F_1 Score: 97.2019%\n",
      "Sensitvity: 97.3889%\n"
     ]
    }
   ],
   "source": [
    "y_pred_rfst = rfst.predict(x_test_scaled)\n",
    "resultsSummarizer(y_test, y_pred_rfst)"
   ]
  },
  {
   "cell_type": "code",
   "execution_count": 54,
   "id": "99a9d925",
   "metadata": {},
   "outputs": [
    {
     "name": "stdout",
     "output_type": "stream",
     "text": [
      "RandomForestClassifier()\n"
     ]
    }
   ],
   "source": [
    "pickle.dump(rfst, open(\"RfRsAp.pkl\", \"wb\"))\n",
    "\n",
    "print(pickle.load(open(\"RfRsAp.pkl\", \"rb\")))"
   ]
  },
  {
   "cell_type": "code",
   "execution_count": null,
   "id": "2f848bfe",
   "metadata": {},
   "outputs": [],
   "source": []
  }
 ],
 "metadata": {
  "kernelspec": {
   "display_name": "Python 3 (ipykernel)",
   "language": "python",
   "name": "python3"
  },
  "language_info": {
   "codemirror_mode": {
    "name": "ipython",
    "version": 3
   },
   "file_extension": ".py",
   "mimetype": "text/x-python",
   "name": "python",
   "nbconvert_exporter": "python",
   "pygments_lexer": "ipython3",
   "version": "3.8.17"
  },
  "papermill": {
   "default_parameters": {},
   "duration": 1870.969005,
   "end_time": "2023-02-23T18:30:40.778353",
   "environment_variables": {},
   "exception": null,
   "input_path": "__notebook__.ipynb",
   "output_path": "__notebook__.ipynb",
   "parameters": {},
   "start_time": "2023-02-23T17:59:29.809348",
   "version": "2.3.4"
  }
 },
 "nbformat": 4,
 "nbformat_minor": 5
}
